{
 "cells": [
  {
   "cell_type": "markdown",
   "id": "2cfc5d79-b9c0-4dd9-8f6b-688564e8cab0",
   "metadata": {},
   "source": [
    "# Scraping: shanghairanking "
   ]
  },
  {
   "cell_type": "code",
   "execution_count": 48,
   "id": "cae11f0d-d9c0-4c15-9b75-c97ca5b579d3",
   "metadata": {},
   "outputs": [],
   "source": [
    "from bs4 import BeautifulSoup\n",
    "from IPython.display import IFrame\n",
    "import requests\n",
    "import pandas as pd\n",
    "import time\n",
    "import re\n",
    "import seaborn as sns\n",
    "import matplotlib.pyplot as plt"
   ]
  },
  {
   "cell_type": "code",
   "execution_count": 2,
   "id": "eecb69b7-42cb-49b7-bdde-22f682c748e8",
   "metadata": {},
   "outputs": [
    {
     "data": {
      "text/html": [
       "\n",
       "        <iframe\n",
       "            width=\"800\"\n",
       "            height=\"400\"\n",
       "            src=\"http://www.shanghairanking.com/rankings/arwu/2008\"\n",
       "            frameborder=\"0\"\n",
       "            allowfullscreen\n",
       "            \n",
       "        ></iframe>\n",
       "        "
      ],
      "text/plain": [
       "<IPython.lib.display.IFrame at 0x111cc1210>"
      ]
     },
     "execution_count": 2,
     "metadata": {},
     "output_type": "execute_result"
    }
   ],
   "source": [
    "IFrame('http://www.shanghairanking.com/rankings/arwu/2008', width = 800, height = 400)"
   ]
  },
  {
   "cell_type": "markdown",
   "id": "fcec88dc-3c5e-4b30-91b9-d2585043daad",
   "metadata": {},
   "source": [
    "## Generel idea: how to scrape the site?"
   ]
  },
  {
   "cell_type": "code",
   "execution_count": 4,
   "id": "54c73a83-f5d2-497b-9bed-56dbee8fa9a7",
   "metadata": {},
   "outputs": [],
   "source": [
    "website = 'http://www.shanghairanking.com/rankings/arwu/2008'\n",
    "reponse = requests.get(website)\n",
    "soup = BeautifulSoup(reponse.content, 'html.parser')\n"
   ]
  },
  {
   "cell_type": "code",
   "execution_count": 5,
   "id": "a632bb39-58c7-468d-b197-e9a7e912be61",
   "metadata": {},
   "outputs": [],
   "source": [
    "# Get table content \n",
    "table = soup.find(\"table\")"
   ]
  },
  {
   "cell_type": "code",
   "execution_count": 10,
   "id": "c3f4efed-c271-431f-9362-b328dac46414",
   "metadata": {},
   "outputs": [
    {
     "data": {
      "text/plain": [
       "[' World\\nRank ', '\\nInstitution\\n', 'Total Score ', 'Alumni']"
      ]
     },
     "execution_count": 10,
     "metadata": {},
     "output_type": "execute_result"
    }
   ],
   "source": [
    "# Get the headers of tab\n",
    "headers = [header.text for header in table.find_all('th')]\n",
    "relevant_headers  = [headers[i] for i in [0, 1, 4]] \n",
    "relevant_headers.append(\"Alumni\")\n",
    "relevant_headers"
   ]
  },
  {
   "cell_type": "code",
   "execution_count": 19,
   "id": "eca9cfcb-417a-4d63-8b19-8a1cbe744937",
   "metadata": {},
   "outputs": [
    {
     "name": "stdout",
     "output_type": "stream",
     "text": [
      "Before deletion of elements\n",
      " [['1', 'Harvard University\\n Harvard University', '', '1', '100.0', '100.0'], ['2', 'Stanford University\\n Stanford University', '', '2', '73.7', '40.0']]\n",
      "After deletion of elements\n",
      " [['1', ' Harvard University', '100.0', '100.0'], ['2', ' Stanford University', '73.7', '40.0']]\n"
     ]
    }
   ],
   "source": [
    "# Get the rows \n",
    "rows = []\n",
    "for row in table.find_all('tr'):\n",
    "    cols = row.find_all('td')\n",
    "    cols = [col.text.strip() for col in cols]\n",
    "    rows.append(cols)\n",
    "rows_mod = rows[1:] # Remove row without information \n",
    "print(\"Before deletion of elements\\n\", rows_mod[0:2])\n",
    "rows_mod = [[sublist[0], sublist[1], sublist[4], sublist[5]] for sublist in rows_mod] # Select specific elements\n",
    "rows_mod = [[element.split(\"\\n\")[1] if \"\\n\" in element \n",
    "             else element for element in sublist] for sublist in rows_mod] # Remove repeated Uni information \n",
    "\n",
    "print(\"After deletion of elements\\n\", rows_mod[0:2])\n"
   ]
  },
  {
   "cell_type": "code",
   "execution_count": 20,
   "id": "317e73f1-d93b-4d64-9708-4294551f8370",
   "metadata": {},
   "outputs": [
    {
     "data": {
      "text/html": [
       "<div>\n",
       "<style scoped>\n",
       "    .dataframe tbody tr th:only-of-type {\n",
       "        vertical-align: middle;\n",
       "    }\n",
       "\n",
       "    .dataframe tbody tr th {\n",
       "        vertical-align: top;\n",
       "    }\n",
       "\n",
       "    .dataframe thead th {\n",
       "        text-align: right;\n",
       "    }\n",
       "</style>\n",
       "<table border=\"1\" class=\"dataframe\">\n",
       "  <thead>\n",
       "    <tr style=\"text-align: right;\">\n",
       "      <th></th>\n",
       "      <th>World\\nRank</th>\n",
       "      <th>\\nInstitution\\n</th>\n",
       "      <th>Total Score</th>\n",
       "      <th>Alumni</th>\n",
       "    </tr>\n",
       "  </thead>\n",
       "  <tbody>\n",
       "    <tr>\n",
       "      <th>0</th>\n",
       "      <td>1</td>\n",
       "      <td>Harvard University</td>\n",
       "      <td>100.0</td>\n",
       "      <td>100.0</td>\n",
       "    </tr>\n",
       "    <tr>\n",
       "      <th>1</th>\n",
       "      <td>2</td>\n",
       "      <td>Stanford University</td>\n",
       "      <td>73.7</td>\n",
       "      <td>40.0</td>\n",
       "    </tr>\n",
       "    <tr>\n",
       "      <th>2</th>\n",
       "      <td>3</td>\n",
       "      <td>University of California, Berkeley</td>\n",
       "      <td>71.4</td>\n",
       "      <td>69.0</td>\n",
       "    </tr>\n",
       "    <tr>\n",
       "      <th>3</th>\n",
       "      <td>4</td>\n",
       "      <td>University of Cambridge</td>\n",
       "      <td>70.4</td>\n",
       "      <td>90.3</td>\n",
       "    </tr>\n",
       "    <tr>\n",
       "      <th>4</th>\n",
       "      <td>5</td>\n",
       "      <td>Massachusetts Institute of Technology (MIT)</td>\n",
       "      <td>69.6</td>\n",
       "      <td>71.0</td>\n",
       "    </tr>\n",
       "  </tbody>\n",
       "</table>\n",
       "</div>"
      ],
      "text/plain": [
       "   World\\nRank                                \\nInstitution\\n Total Score   \\\n",
       "0             1                            Harvard University        100.0   \n",
       "1             2                           Stanford University         73.7   \n",
       "2             3            University of California, Berkeley         71.4   \n",
       "3             4                       University of Cambridge         70.4   \n",
       "4             5   Massachusetts Institute of Technology (MIT)         69.6   \n",
       "\n",
       "  Alumni  \n",
       "0  100.0  \n",
       "1   40.0  \n",
       "2   69.0  \n",
       "3   90.3  \n",
       "4   71.0  "
      ]
     },
     "execution_count": 20,
     "metadata": {},
     "output_type": "execute_result"
    }
   ],
   "source": [
    "# Transform data into dictionary, then in dataframe \n",
    "dic = {}\n",
    "for header in relevant_headers:\n",
    "    dic[header] = [country[relevant_headers.index(header)] for country in rows_mod if len(country) > relevant_headers.index(header)]\n",
    "\n",
    "# Dataframe \n",
    "data = pd.DataFrame(dic)\n",
    "data.head()"
   ]
  },
  {
   "cell_type": "markdown",
   "id": "bf7832a6-3869-489a-ab78-c373396293e2",
   "metadata": {},
   "source": [
    "## Now get all sites at one"
   ]
  },
  {
   "cell_type": "code",
   "execution_count": 27,
   "id": "2b7942eb-5fcb-4511-9258-af1d8ff22c46",
   "metadata": {},
   "outputs": [],
   "source": [
    "base = \"http://www.shanghairanking.com/rankings/arwu/\"\n",
    "years = list(range(2003, 2024))\n",
    "dfs = []\n",
    "for i in years: \n",
    "\n",
    "    \n",
    "    # Get html file of website \n",
    "    time.sleep(1) # make a short break \n",
    "    website = base + str(i)\n",
    "    reponse = requests.get(website)\n",
    "    soup = BeautifulSoup(reponse.content, 'html.parser')\n",
    "\n",
    "    \n",
    "    # Get the relevant area of the html file \n",
    "    table = soup.find(\"table\")\n",
    "\n",
    "    ## Get the headers of table\n",
    "    headers = [header.text for header in table.find_all('th')]\n",
    "    relevant_headers  = [headers[i] for i in [0, 1, 4]] \n",
    "    relevant_headers.append(\"Alumni\")\n",
    "\n",
    "    ## Get the rows of table \n",
    "    rows = []\n",
    "    for row in table.find_all('tr'):\n",
    "        cols = row.find_all('td')\n",
    "        cols = [col.text.strip() for col in cols]\n",
    "        rows.append(cols)\n",
    "    rows_mod = rows[1:] # Remove row without information \n",
    "    rows_mod = [[sublist[0], sublist[1], sublist[4], sublist[5]] for sublist in rows_mod] # Select specific elements\n",
    "    rows_mod = [[element.split(\"\\n\")[1] if \"\\n\" in element \n",
    "             else element for element in sublist] for sublist in rows_mod] # Remove repeated Uni information \n",
    "\n",
    "\n",
    "   # Transfrom the data into dataframe\n",
    "    dic = {}\n",
    "    for header in relevant_headers:\n",
    "        dic[header] = [country[relevant_headers.index(header)] for country in rows_mod if len(country) > relevant_headers.index(header)]\n",
    "    data = pd.DataFrame(dic)\n",
    "    data[\"Year\"] = i \n",
    "\n",
    "    \n",
    "    # Add the dataframes together \n",
    "    dfs.append(data) \n",
    "shanghai_dataframe = pd.concat(dfs, ignore_index = True) "
   ]
  },
  {
   "cell_type": "code",
   "execution_count": 30,
   "id": "3b518e13-d302-43bf-b483-5dffabb9918a",
   "metadata": {},
   "outputs": [],
   "source": [
    "import requests\n",
    "import time\n",
    "from bs4 import BeautifulSoup\n",
    "import pandas as pd\n",
    "\n",
    "base = \"http://www.shanghairanking.com/rankings/arwu/\"\n",
    "years = list(range(2003, 2024))\n",
    "dfs = []\n",
    "\n",
    "for i in years:\n",
    "    # Get HTML file of website\n",
    "    time.sleep(1)  # Make a short break\n",
    "    website = base + str(i)\n",
    "    response = requests.get(website)\n",
    "    soup = BeautifulSoup(response.content, 'html.parser')\n",
    "\n",
    "    # Get the relevant area of the HTML file\n",
    "    table = soup.find(\"table\")\n",
    "\n",
    "    # Get the headers of the table\n",
    "    headers = [header.text for header in table.find_all('th')]\n",
    "    relevant_headers = [headers[i] for i in [0, 1, 4]]\n",
    "    relevant_headers.append(\"Alumni\")\n",
    "\n",
    "    # Get the rows of the table\n",
    "    rows = []\n",
    "    for row in table.find_all('tr'):\n",
    "        cols = row.find_all('td')\n",
    "        cols = [col.text.strip() for col in cols]\n",
    "        rows.append(cols)\n",
    "    rows_mod = rows[1:]  # Remove rows without information\n",
    "    rows_mod = [[sublist[0], sublist[1], sublist[4], sublist[5]] for sublist in rows_mod]  # Select specific elements\n",
    "    rows_mod = [[element.split(\"\\n\")[1] if \"\\n\" in element else element for element in sublist] for sublist in rows_mod]  # Remove repeated Uni information\n",
    "\n",
    "    # Transform the data into a DataFrame\n",
    "    dic = {}\n",
    "    for header in relevant_headers:\n",
    "        dic[header] = [country[relevant_headers.index(header)] for country in rows_mod if len(country) > relevant_headers.index(header)]\n",
    "    data = pd.DataFrame(dic)\n",
    "    data[\"Year\"] = i\n",
    "\n",
    "    # Append the dataframes to the list\n",
    "    dfs.append(data)\n",
    "\n",
    "# Concatenate all dataframes\n",
    "shanghai_dataframe = pd.concat(dfs, ignore_index=True)\n"
   ]
  },
  {
   "cell_type": "code",
   "execution_count": 37,
   "id": "8c0f2674-ad78-4bbd-9672-54103e1d17b8",
   "metadata": {},
   "outputs": [
    {
     "data": {
      "text/html": [
       "<div>\n",
       "<style scoped>\n",
       "    .dataframe tbody tr th:only-of-type {\n",
       "        vertical-align: middle;\n",
       "    }\n",
       "\n",
       "    .dataframe tbody tr th {\n",
       "        vertical-align: top;\n",
       "    }\n",
       "\n",
       "    .dataframe thead th {\n",
       "        text-align: right;\n",
       "    }\n",
       "</style>\n",
       "<table border=\"1\" class=\"dataframe\">\n",
       "  <thead>\n",
       "    <tr style=\"text-align: right;\">\n",
       "      <th></th>\n",
       "      <th>World_Rank</th>\n",
       "      <th>Institution</th>\n",
       "      <th>Total Score</th>\n",
       "      <th>Alumni</th>\n",
       "      <th>Year</th>\n",
       "    </tr>\n",
       "  </thead>\n",
       "  <tbody>\n",
       "    <tr>\n",
       "      <th>0</th>\n",
       "      <td>1</td>\n",
       "      <td>Harvard University</td>\n",
       "      <td>100.0</td>\n",
       "      <td>100.0</td>\n",
       "      <td>2003</td>\n",
       "    </tr>\n",
       "    <tr>\n",
       "      <th>1</th>\n",
       "      <td>2</td>\n",
       "      <td>Stanford University</td>\n",
       "      <td>83.5</td>\n",
       "      <td>76.2</td>\n",
       "      <td>2003</td>\n",
       "    </tr>\n",
       "    <tr>\n",
       "      <th>2</th>\n",
       "      <td>3</td>\n",
       "      <td>California Institute of Technology</td>\n",
       "      <td>76.3</td>\n",
       "      <td>72.9</td>\n",
       "      <td>2003</td>\n",
       "    </tr>\n",
       "    <tr>\n",
       "      <th>3</th>\n",
       "      <td>4</td>\n",
       "      <td>University of California, Berkeley</td>\n",
       "      <td>74.0</td>\n",
       "      <td>75.0</td>\n",
       "      <td>2003</td>\n",
       "    </tr>\n",
       "    <tr>\n",
       "      <th>4</th>\n",
       "      <td>5</td>\n",
       "      <td>University of Cambridge</td>\n",
       "      <td>73.4</td>\n",
       "      <td>91.1</td>\n",
       "      <td>2003</td>\n",
       "    </tr>\n",
       "    <tr>\n",
       "      <th>5</th>\n",
       "      <td>26</td>\n",
       "      <td>University of Michigan-Ann Arbor</td>\n",
       "      <td>37.8</td>\n",
       "      <td>37.4</td>\n",
       "      <td>2023</td>\n",
       "    </tr>\n",
       "    <tr>\n",
       "      <th>6</th>\n",
       "      <td>27</td>\n",
       "      <td>The University of Tokyo</td>\n",
       "      <td>37.7</td>\n",
       "      <td>36.6</td>\n",
       "      <td>2023</td>\n",
       "    </tr>\n",
       "    <tr>\n",
       "      <th>7</th>\n",
       "      <td>28</td>\n",
       "      <td>New York University</td>\n",
       "      <td>37.3</td>\n",
       "      <td>26.7</td>\n",
       "      <td>2023</td>\n",
       "    </tr>\n",
       "    <tr>\n",
       "      <th>8</th>\n",
       "      <td>29</td>\n",
       "      <td>Peking University</td>\n",
       "      <td>36.7</td>\n",
       "      <td>10.5</td>\n",
       "      <td>2023</td>\n",
       "    </tr>\n",
       "    <tr>\n",
       "      <th>9</th>\n",
       "      <td>30</td>\n",
       "      <td>Northwestern University</td>\n",
       "      <td>35.8</td>\n",
       "      <td>12.8</td>\n",
       "      <td>2023</td>\n",
       "    </tr>\n",
       "  </tbody>\n",
       "</table>\n",
       "</div>"
      ],
      "text/plain": [
       "  World_Rank                          Institution Total Score  Alumni  Year\n",
       "0          1                   Harvard University        100.0  100.0  2003\n",
       "1          2                  Stanford University         83.5   76.2  2003\n",
       "2          3   California Institute of Technology         76.3   72.9  2003\n",
       "3          4   University of California, Berkeley         74.0   75.0  2003\n",
       "4          5              University of Cambridge         73.4   91.1  2003\n",
       "5         26     University of Michigan-Ann Arbor         37.8   37.4  2023\n",
       "6         27              The University of Tokyo         37.7   36.6  2023\n",
       "7         28                  New York University         37.3   26.7  2023\n",
       "8         29                    Peking University         36.7   10.5  2023\n",
       "9         30              Northwestern University         35.8   12.8  2023"
      ]
     },
     "execution_count": 37,
     "metadata": {},
     "output_type": "execute_result"
    }
   ],
   "source": [
    "shanghai_dataframe.rename(columns={shanghai_dataframe.columns[1]: \"Institution\"}, inplace=True)\n",
    "shanghai_dataframe.rename(columns={shanghai_dataframe.columns[0]: \"World_Rank\"}, inplace=True)\n",
    "\n",
    "pd.concat([shanghai_dataframe.head(), shanghai_dataframe.tail()], ignore_index = True)"
   ]
  },
  {
   "cell_type": "code",
   "execution_count": 46,
   "id": "cd60d0aa-1112-4bc6-981e-cb0d489511f4",
   "metadata": {},
   "outputs": [],
   "source": [
    "shanghai_dataframe[\"World_Rank\"] = shanghai_dataframe[\"World_Rank\"].astype(\"int64\")"
   ]
  },
  {
   "cell_type": "code",
   "execution_count": 56,
   "id": "23a75368-ddff-43ae-bd3d-2ad50a847583",
   "metadata": {},
   "outputs": [
    {
     "data": {
      "image/png": "[encoded data removed]",
      "text/plain": [
       "<Figure size 640x480 with 1 Axes>"
      ]
     },
     "metadata": {},
     "output_type": "display_data"
    }
   ],
   "source": [
    "# Visualization of the dataframe\n",
    "sns.lineplot(x=\"Year\", y=\"World_Rank\", hue=\"Institution\", data=shanghai_dataframe)\n",
    "plt.gca().invert_yaxis()\n",
    "\n",
    "# Remove the legend \n",
    "plt.legend().remove()\n",
    "\n",
    "# Display the plot\n",
    "plt.show()"
   ]
  },
  {
   "cell_type": "code",
   "execution_count": 60,
   "id": "45c06a14-9cac-4346-b431-e56b502a255e",
   "metadata": {},
   "outputs": [
    {
     "data": {
      "application/vnd.plotly.v1+json": {
       "config": {
        "plotlyServerURL": "https://plot.ly"
       },
       "data": [
        {
         "hovertemplate": "Institution= Harvard University<br>Year=%{x}<br>World Rank=%{y}<extra></extra>",
         "legendgroup": " Harvard University",
         "line": {
          "color": "#636efa",
          "dash": "solid"
         },
         "marker": {
          "symbol": "circle"
         },
         "mode": "lines",
         "name": " Harvard University",
         "orientation": "v",
         "showlegend": true,
         "type": "scatter",
         "x": [
          2003,
          2004,
          2005,
          2006,
          2007,
          2008,
          2009,
          2010,
          2011,
          2012,
          2013,
          2014,
          2015,
          2016,
          2017,
          2018,
          2019,
          2020,
          2021,
          2022,
          2023
         ],
         "xaxis": "x",
         "y": [
          1,
          1,
          1,
          1,
          1,
          1,
          1,
          1,
          1,
          1,
          1,
          1,
          1,
          1,
          1,
          1,
          1,
          1,
          1,
          1,
          1
         ],
         "yaxis": "y"
        },
        {
         "hovertemplate": "Institution= Stanford University<br>Year=%{x}<br>World Rank=%{y}<extra></extra>",
         "legendgroup": " Stanford University",
         "line": {
          "color": "#EF553B",
          "dash": "solid"
         },
         "marker": {
          "symbol": "circle"
         },
         "mode": "lines",
         "name": " Stanford University",
         "orientation": "v",
         "showlegend": true,
         "type": "scatter",
         "x": [
          2003,
          2004,
          2005,
          2006,
          2007,
          2008,
          2009,
          2010,
          2011,
          2012,
          2013,
          2014,
          2015,
          2016,
          2017,
          2018,
          2019,
          2020,
          2021,
          2022,
          2023
         ],
         "xaxis": "x",
         "y": [
          2,
          2,
          3,
          3,
          2,
          2,
          2,
          3,
          2,
          2,
          2,
          2,
          2,
          2,
          2,
          2,
          2,
          2,
          2,
          2,
          2
         ],
         "yaxis": "y"
        },
        {
         "hovertemplate": "Institution= California Institute of Technology<br>Year=%{x}<br>World Rank=%{y}<extra></extra>",
         "legendgroup": " California Institute of Technology",
         "line": {
          "color": "#00cc96",
          "dash": "solid"
         },
         "marker": {
          "symbol": "circle"
         },
         "mode": "lines",
         "name": " California Institute of Technology",
         "orientation": "v",
         "showlegend": true,
         "type": "scatter",
         "x": [
          2003,
          2004,
          2005,
          2006,
          2007,
          2008,
          2009,
          2010,
          2011,
          2012,
          2013,
          2014,
          2015,
          2016,
          2017,
          2018,
          2019,
          2020,
          2021,
          2022,
          2023
         ],
         "xaxis": "x",
         "y": [
          3,
          6,
          6,
          6,
          6,
          6,
          6,
          6,
          6,
          6,
          6,
          7,
          7,
          8,
          9,
          9,
          9,
          8,
          9,
          9,
          9
         ],
         "yaxis": "y"
        },
        {
         "hovertemplate": "Institution= University of California, Berkeley<br>Year=%{x}<br>World Rank=%{y}<extra></extra>",
         "legendgroup": " University of California, Berkeley",
         "line": {
          "color": "#ab63fa",
          "dash": "solid"
         },
         "marker": {
          "symbol": "circle"
         },
         "mode": "lines",
         "name": " University of California, Berkeley",
         "orientation": "v",
         "showlegend": true,
         "type": "scatter",
         "x": [
          2003,
          2004,
          2005,
          2006,
          2007,
          2008,
          2009,
          2010,
          2011,
          2012,
          2013,
          2015,
          2016,
          2017,
          2018,
          2019,
          2020,
          2021,
          2022,
          2023
         ],
         "xaxis": "x",
         "y": [
          4,
          4,
          4,
          4,
          3,
          3,
          3,
          2,
          4,
          4,
          3,
          4,
          3,
          5,
          5,
          5,
          5,
          5,
          5,
          5
         ],
         "yaxis": "y"
        },
        {
         "hovertemplate": "Institution= University of Cambridge<br>Year=%{x}<br>World Rank=%{y}<extra></extra>",
         "legendgroup": " University of Cambridge",
         "line": {
          "color": "#FFA15A",
          "dash": "solid"
         },
         "marker": {
          "symbol": "circle"
         },
         "mode": "lines",
         "name": " University of Cambridge",
         "orientation": "v",
         "showlegend": true,
         "type": "scatter",
         "x": [
          2003,
          2004,
          2005,
          2006,
          2007,
          2008,
          2009,
          2010,
          2011,
          2012,
          2013,
          2014,
          2015,
          2016,
          2017,
          2018,
          2019,
          2020,
          2021,
          2022,
          2023
         ],
         "xaxis": "x",
         "y": [
          5,
          3,
          2,
          2,
          4,
          4,
          4,
          5,
          5,
          5,
          5,
          5,
          5,
          4,
          3,
          3,
          3,
          3,
          3,
          4,
          4
         ],
         "yaxis": "y"
        },
        {
         "hovertemplate": "Institution= Massachusetts Institute of Technology (MIT)<br>Year=%{x}<br>World Rank=%{y}<extra></extra>",
         "legendgroup": " Massachusetts Institute of Technology (MIT)",
         "line": {
          "color": "#19d3f3",
          "dash": "solid"
         },
         "marker": {
          "symbol": "circle"
         },
         "mode": "lines",
         "name": " Massachusetts Institute of Technology (MIT)",
         "orientation": "v",
         "showlegend": true,
         "type": "scatter",
         "x": [
          2003,
          2004,
          2005,
          2006,
          2007,
          2008,
          2009,
          2010,
          2011,
          2012,
          2013,
          2014,
          2015,
          2016,
          2017,
          2018,
          2019,
          2020,
          2021,
          2022,
          2023
         ],
         "xaxis": "x",
         "y": [
          6,
          5,
          5,
          5,
          5,
          5,
          5,
          4,
          3,
          3,
          4,
          3,
          3,
          5,
          4,
          4,
          4,
          4,
          4,
          3,
          3
         ],
         "yaxis": "y"
        },
        {
         "hovertemplate": "Institution= Princeton University<br>Year=%{x}<br>World Rank=%{y}<extra></extra>",
         "legendgroup": " Princeton University",
         "line": {
          "color": "#FF6692",
          "dash": "solid"
         },
         "marker": {
          "symbol": "circle"
         },
         "mode": "lines",
         "name": " Princeton University",
         "orientation": "v",
         "showlegend": true,
         "type": "scatter",
         "x": [
          2003,
          2004,
          2005,
          2006,
          2007,
          2008,
          2009,
          2010,
          2011,
          2012,
          2013,
          2014,
          2015,
          2016,
          2017,
          2018,
          2019,
          2020,
          2021,
          2022,
          2023
         ],
         "xaxis": "x",
         "y": [
          7,
          7,
          8,
          8,
          8,
          8,
          8,
          7,
          7,
          7,
          7,
          6,
          6,
          6,
          6,
          6,
          6,
          6,
          6,
          6,
          6
         ],
         "yaxis": "y"
        },
        {
         "hovertemplate": "Institution= Yale University<br>Year=%{x}<br>World Rank=%{y}<extra></extra>",
         "legendgroup": " Yale University",
         "line": {
          "color": "#B6E880",
          "dash": "solid"
         },
         "marker": {
          "symbol": "circle"
         },
         "mode": "lines",
         "name": " Yale University",
         "orientation": "v",
         "showlegend": true,
         "type": "scatter",
         "x": [
          2003,
          2004,
          2005,
          2006,
          2007,
          2008,
          2009,
          2010,
          2011,
          2012,
          2013,
          2014,
          2015,
          2016,
          2017,
          2018,
          2019,
          2020,
          2021,
          2022,
          2023
         ],
         "xaxis": "x",
         "y": [
          8,
          11,
          11,
          11,
          11,
          11,
          11,
          11,
          11,
          11,
          11,
          11,
          11,
          11,
          11,
          12,
          11,
          11,
          11,
          11,
          11
         ],
         "yaxis": "y"
        },
        {
         "hovertemplate": "Institution= University of Oxford<br>Year=%{x}<br>World Rank=%{y}<extra></extra>",
         "legendgroup": " University of Oxford",
         "line": {
          "color": "#FF97FF",
          "dash": "solid"
         },
         "marker": {
          "symbol": "circle"
         },
         "mode": "lines",
         "name": " University of Oxford",
         "orientation": "v",
         "showlegend": true,
         "type": "scatter",
         "x": [
          2003,
          2004,
          2005,
          2006,
          2007,
          2008,
          2009,
          2010,
          2011,
          2012,
          2013,
          2014,
          2015,
          2016,
          2017,
          2018,
          2019,
          2020,
          2021,
          2022,
          2023
         ],
         "xaxis": "x",
         "y": [
          9,
          8,
          10,
          10,
          10,
          10,
          10,
          10,
          10,
          10,
          10,
          9,
          10,
          7,
          7,
          7,
          7,
          9,
          7,
          7,
          7
         ],
         "yaxis": "y"
        },
        {
         "hovertemplate": "Institution= Columbia University<br>Year=%{x}<br>World Rank=%{y}<extra></extra>",
         "legendgroup": " Columbia University",
         "line": {
          "color": "#FECB52",
          "dash": "solid"
         },
         "marker": {
          "symbol": "circle"
         },
         "mode": "lines",
         "name": " Columbia University",
         "orientation": "v",
         "showlegend": true,
         "type": "scatter",
         "x": [
          2003,
          2004,
          2005,
          2006,
          2007,
          2008,
          2009,
          2010,
          2011,
          2012,
          2013,
          2014,
          2015,
          2016,
          2017,
          2018,
          2019,
          2020,
          2021,
          2022,
          2023
         ],
         "xaxis": "x",
         "y": [
          10,
          9,
          7,
          7,
          7,
          7,
          7,
          8,
          8,
          8,
          8,
          8,
          8,
          9,
          8,
          8,
          8,
          7,
          8,
          8,
          8
         ],
         "yaxis": "y"
        },
        {
         "hovertemplate": "Institution= University of Chicago<br>Year=%{x}<br>World Rank=%{y}<extra></extra>",
         "legendgroup": " University of Chicago",
         "line": {
          "color": "#636efa",
          "dash": "solid"
         },
         "marker": {
          "symbol": "circle"
         },
         "mode": "lines",
         "name": " University of Chicago",
         "orientation": "v",
         "showlegend": true,
         "type": "scatter",
         "x": [
          2003,
          2004,
          2005,
          2006,
          2007,
          2008,
          2009,
          2010,
          2011,
          2012,
          2013,
          2014,
          2015,
          2016,
          2017,
          2018,
          2019,
          2020,
          2021,
          2022,
          2023
         ],
         "xaxis": "x",
         "y": [
          11,
          10,
          9,
          8,
          9,
          9,
          9,
          9,
          9,
          9,
          9,
          9,
          9,
          10,
          10,
          10,
          10,
          10,
          10,
          10,
          10
         ],
         "yaxis": "y"
        },
        {
         "hovertemplate": "Institution= Cornell University<br>Year=%{x}<br>World Rank=%{y}<extra></extra>",
         "legendgroup": " Cornell University",
         "line": {
          "color": "#EF553B",
          "dash": "solid"
         },
         "marker": {
          "symbol": "circle"
         },
         "mode": "lines",
         "name": " Cornell University",
         "orientation": "v",
         "showlegend": true,
         "type": "scatter",
         "x": [
          2003,
          2004,
          2005,
          2006,
          2007,
          2008,
          2009,
          2010,
          2011,
          2012,
          2013,
          2014,
          2015,
          2016,
          2017,
          2018,
          2019,
          2020,
          2021,
          2022,
          2023
         ],
         "xaxis": "x",
         "y": [
          12,
          12,
          12,
          12,
          12,
          12,
          12,
          12,
          13,
          13,
          13,
          13,
          13,
          13,
          14,
          12,
          13,
          12,
          12,
          12,
          12
         ],
         "yaxis": "y"
        },
        {
         "hovertemplate": "Institution= University of California, San Francisco<br>Year=%{x}<br>World Rank=%{y}<extra></extra>",
         "legendgroup": " University of California, San Francisco",
         "line": {
          "color": "#00cc96",
          "dash": "solid"
         },
         "marker": {
          "symbol": "circle"
         },
         "mode": "lines",
         "name": " University of California, San Francisco",
         "orientation": "v",
         "showlegend": true,
         "type": "scatter",
         "x": [
          2003,
          2004,
          2005,
          2006,
          2007,
          2008,
          2009,
          2010,
          2011,
          2012,
          2013,
          2014,
          2015,
          2016,
          2017,
          2018,
          2019,
          2020,
          2021,
          2022,
          2023
         ],
         "xaxis": "x",
         "y": [
          13,
          17,
          18,
          18,
          18,
          18,
          18,
          18,
          17,
          18,
          18,
          18,
          18,
          21,
          21,
          21,
          20,
          21,
          20,
          19,
          21
         ],
         "yaxis": "y"
        },
        {
         "hovertemplate": "Institution= University of California, San Diego<br>Year=%{x}<br>World Rank=%{y}<extra></extra>",
         "legendgroup": " University of California, San Diego",
         "line": {
          "color": "#ab63fa",
          "dash": "solid"
         },
         "marker": {
          "symbol": "circle"
         },
         "mode": "lines",
         "name": " University of California, San Diego",
         "orientation": "v",
         "showlegend": true,
         "type": "scatter",
         "x": [
          2003,
          2004,
          2005,
          2006,
          2007,
          2008,
          2009,
          2010,
          2011,
          2012,
          2013,
          2014,
          2015,
          2016,
          2017,
          2018,
          2019,
          2020,
          2021,
          2022,
          2023
         ],
         "xaxis": "x",
         "y": [
          14,
          13,
          13,
          13,
          14,
          14,
          14,
          14,
          15,
          15,
          14,
          14,
          14,
          14,
          15,
          15,
          18,
          18,
          18,
          21,
          19
         ],
         "yaxis": "y"
        },
        {
         "hovertemplate": "Institution= University of California, Los Angeles<br>Year=%{x}<br>World Rank=%{y}<extra></extra>",
         "legendgroup": " University of California, Los Angeles",
         "line": {
          "color": "#FFA15A",
          "dash": "solid"
         },
         "marker": {
          "symbol": "circle"
         },
         "mode": "lines",
         "name": " University of California, Los Angeles",
         "orientation": "v",
         "showlegend": true,
         "type": "scatter",
         "x": [
          2003,
          2004,
          2005,
          2006,
          2007,
          2008,
          2009,
          2010,
          2011,
          2012,
          2013,
          2014,
          2015,
          2016,
          2017,
          2018,
          2019,
          2020,
          2021,
          2022,
          2023
         ],
         "xaxis": "x",
         "y": [
          15,
          16,
          14,
          14,
          13,
          13,
          13,
          13,
          12,
          12,
          12,
          12,
          12,
          12,
          12,
          11,
          11,
          13,
          14,
          13,
          13
         ],
         "yaxis": "y"
        },
        {
         "hovertemplate": "Institution= University of Washington<br>Year=%{x}<br>World Rank=%{y}<extra></extra>",
         "legendgroup": " University of Washington",
         "line": {
          "color": "#19d3f3",
          "dash": "solid"
         },
         "marker": {
          "symbol": "circle"
         },
         "mode": "lines",
         "name": " University of Washington",
         "orientation": "v",
         "showlegend": true,
         "type": "scatter",
         "x": [
          2003,
          2004,
          2005,
          2006,
          2007,
          2008,
          2009,
          2010,
          2011,
          2012,
          2013,
          2014,
          2015,
          2016,
          2017,
          2018,
          2019,
          2020,
          2021,
          2022,
          2023
         ],
         "xaxis": "x",
         "y": [
          16,
          20,
          17,
          17,
          16,
          16,
          16,
          16,
          16,
          16,
          16,
          15,
          15,
          15,
          13,
          14,
          14,
          16,
          19,
          17,
          18
         ],
         "yaxis": "y"
        },
        {
         "hovertemplate": "Institution= The Imperial College of Science<br>Year=%{x}<br>World Rank=%{y}<extra></extra>",
         "legendgroup": " The Imperial College of Science",
         "line": {
          "color": "#FF6692",
          "dash": "solid"
         },
         "marker": {
          "symbol": "circle"
         },
         "mode": "lines",
         "name": " The Imperial College of Science",
         "orientation": "v",
         "showlegend": true,
         "type": "scatter",
         "x": [
          2003,
          2004,
          2005,
          2006,
          2007,
          2009,
          2010,
          2011,
          2012
         ],
         "xaxis": "x",
         "y": [
          17,
          23,
          23,
          23,
          23,
          26,
          26,
          24,
          24
         ],
         "yaxis": "y"
        },
        {
         "hovertemplate": "Institution= University of Pennsylvania<br>Year=%{x}<br>World Rank=%{y}<extra></extra>",
         "legendgroup": " University of Pennsylvania",
         "line": {
          "color": "#B6E880",
          "dash": "solid"
         },
         "marker": {
          "symbol": "circle"
         },
         "mode": "lines",
         "name": " University of Pennsylvania",
         "orientation": "v",
         "showlegend": true,
         "type": "scatter",
         "x": [
          2003,
          2004,
          2005,
          2006,
          2007,
          2008,
          2009,
          2010,
          2011,
          2012,
          2013,
          2014,
          2015,
          2016,
          2017,
          2018,
          2019,
          2020,
          2021,
          2022,
          2023
         ],
         "xaxis": "x",
         "y": [
          18,
          15,
          15,
          15,
          15,
          15,
          15,
          15,
          14,
          14,
          15,
          16,
          17,
          18,
          17,
          16,
          17,
          19,
          15,
          15,
          14
         ],
         "yaxis": "y"
        },
        {
         "hovertemplate": "Institution= The University of Tokyo<br>Year=%{x}<br>World Rank=%{y}<extra></extra>",
         "legendgroup": " The University of Tokyo",
         "line": {
          "color": "#FF97FF",
          "dash": "solid"
         },
         "marker": {
          "symbol": "circle"
         },
         "mode": "lines",
         "name": " The University of Tokyo",
         "orientation": "v",
         "showlegend": true,
         "type": "scatter",
         "x": [
          2003,
          2004,
          2005,
          2006,
          2007,
          2008,
          2009,
          2010,
          2011,
          2012,
          2013,
          2014,
          2015,
          2016,
          2017,
          2018,
          2019,
          2020,
          2021,
          2022,
          2023
         ],
         "xaxis": "x",
         "y": [
          19,
          14,
          20,
          19,
          20,
          19,
          20,
          20,
          21,
          20,
          21,
          21,
          21,
          20,
          24,
          22,
          25,
          26,
          24,
          24,
          27
         ],
         "yaxis": "y"
        },
        {
         "hovertemplate": "Institution= University College London<br>Year=%{x}<br>World Rank=%{y}<extra></extra>",
         "legendgroup": " University College London",
         "line": {
          "color": "#FECB52",
          "dash": "solid"
         },
         "marker": {
          "symbol": "circle"
         },
         "mode": "lines",
         "name": " University College London",
         "orientation": "v",
         "showlegend": true,
         "type": "scatter",
         "x": [
          2003,
          2004,
          2005,
          2006,
          2007,
          2008,
          2009,
          2010,
          2011,
          2012,
          2013,
          2014,
          2015,
          2016,
          2017,
          2018,
          2019,
          2020,
          2021,
          2022,
          2023
         ],
         "xaxis": "x",
         "y": [
          20,
          25,
          26,
          26,
          25,
          22,
          21,
          21,
          20,
          21,
          21,
          20,
          18,
          17,
          16,
          17,
          15,
          16,
          17,
          18,
          17
         ],
         "yaxis": "y"
        },
        {
         "hovertemplate": "Institution= University of Michigan - Ann Arbor<br>Year=%{x}<br>World Rank=%{y}<extra></extra>",
         "legendgroup": " University of Michigan - Ann Arbor",
         "line": {
          "color": "#636efa",
          "dash": "solid"
         },
         "marker": {
          "symbol": "circle"
         },
         "mode": "lines",
         "name": " University of Michigan - Ann Arbor",
         "orientation": "v",
         "showlegend": true,
         "type": "scatter",
         "x": [
          2003,
          2004,
          2005,
          2006,
          2007,
          2008,
          2009,
          2010,
          2011,
          2012,
          2013,
          2021
         ],
         "xaxis": "x",
         "y": [
          21,
          19,
          21,
          21,
          21,
          21,
          22,
          22,
          22,
          22,
          23,
          26
         ],
         "yaxis": "y"
        },
        {
         "hovertemplate": "Institution= Washington University in St. Louis<br>Year=%{x}<br>World Rank=%{y}<extra></extra>",
         "legendgroup": " Washington University in St. Louis",
         "line": {
          "color": "#EF553B",
          "dash": "solid"
         },
         "marker": {
          "symbol": "circle"
         },
         "mode": "lines",
         "name": " Washington University in St. Louis",
         "orientation": "v",
         "showlegend": true,
         "type": "scatter",
         "x": [
          2003,
          2004,
          2005,
          2006,
          2007,
          2008,
          2009,
          2010,
          2016,
          2017,
          2018,
          2019,
          2020,
          2021,
          2022,
          2023
         ],
         "xaxis": "x",
         "y": [
          22,
          28,
          28,
          28,
          28,
          29,
          29,
          30,
          23,
          20,
          20,
          22,
          23,
          23,
          27,
          25
         ],
         "yaxis": "y"
        },
        {
         "hovertemplate": "Institution= University of Toronto<br>Year=%{x}<br>World Rank=%{y}<extra></extra>",
         "legendgroup": " University of Toronto",
         "line": {
          "color": "#00cc96",
          "dash": "solid"
         },
         "marker": {
          "symbol": "circle"
         },
         "mode": "lines",
         "name": " University of Toronto",
         "orientation": "v",
         "showlegend": true,
         "type": "scatter",
         "x": [
          2003,
          2004,
          2005,
          2006,
          2007,
          2008,
          2009,
          2010,
          2011,
          2012,
          2013,
          2014,
          2015,
          2016,
          2017,
          2018,
          2019,
          2020,
          2021,
          2022,
          2023
         ],
         "xaxis": "x",
         "y": [
          23,
          24,
          24,
          24,
          23,
          24,
          27,
          27,
          26,
          27,
          28,
          24,
          25,
          27,
          23,
          23,
          24,
          23,
          22,
          22,
          24
         ],
         "yaxis": "y"
        },
        {
         "hovertemplate": "Institution= The Johns Hopkins University<br>Year=%{x}<br>World Rank=%{y}<extra></extra>",
         "legendgroup": " The Johns Hopkins University",
         "line": {
          "color": "#ab63fa",
          "dash": "solid"
         },
         "marker": {
          "symbol": "circle"
         },
         "mode": "lines",
         "name": " The Johns Hopkins University",
         "orientation": "v",
         "showlegend": true,
         "type": "scatter",
         "x": [
          2003,
          2004,
          2005,
          2006,
          2007,
          2008,
          2009,
          2010,
          2011,
          2012,
          2013,
          2014
         ],
         "xaxis": "x",
         "y": [
          24,
          22,
          19,
          20,
          19,
          20,
          19,
          18,
          18,
          17,
          17,
          17
         ],
         "yaxis": "y"
        },
        {
         "hovertemplate": "Institution= Swiss Federal Institute of Technology Zurich<br>Year=%{x}<br>World Rank=%{y}<extra></extra>",
         "legendgroup": " Swiss Federal Institute of Technology Zurich",
         "line": {
          "color": "#FFA15A",
          "dash": "solid"
         },
         "marker": {
          "symbol": "circle"
         },
         "mode": "lines",
         "name": " Swiss Federal Institute of Technology Zurich",
         "orientation": "v",
         "showlegend": true,
         "type": "scatter",
         "x": [
          2003,
          2004,
          2005,
          2006,
          2007,
          2008,
          2009,
          2010,
          2011,
          2012,
          2013,
          2014,
          2015,
          2016,
          2017,
          2018,
          2019
         ],
         "xaxis": "x",
         "y": [
          25,
          27,
          27,
          27,
          27,
          24,
          23,
          23,
          23,
          23,
          20,
          19,
          20,
          19,
          19,
          19,
          19
         ],
         "yaxis": "y"
        },
        {
         "hovertemplate": "Institution= University of California, Santa Barbara<br>Year=%{x}<br>World Rank=%{y}<extra></extra>",
         "legendgroup": " University of California, Santa Barbara",
         "line": {
          "color": "#19d3f3",
          "dash": "solid"
         },
         "marker": {
          "symbol": "circle"
         },
         "mode": "lines",
         "name": " University of California, Santa Barbara",
         "orientation": "v",
         "showlegend": true,
         "type": "scatter",
         "x": [
          2003
         ],
         "xaxis": "x",
         "y": [
          26
         ],
         "yaxis": "y"
        },
        {
         "hovertemplate": "Institution= University of Wisconsin - Madison<br>Year=%{x}<br>World Rank=%{y}<extra></extra>",
         "legendgroup": " University of Wisconsin - Madison",
         "line": {
          "color": "#FF6692",
          "dash": "solid"
         },
         "marker": {
          "symbol": "circle"
         },
         "mode": "lines",
         "name": " University of Wisconsin - Madison",
         "orientation": "v",
         "showlegend": true,
         "type": "scatter",
         "x": [
          2003,
          2004,
          2005,
          2006,
          2007,
          2008,
          2009,
          2010,
          2011,
          2012,
          2013,
          2014,
          2015,
          2016,
          2017,
          2018,
          2019
         ],
         "xaxis": "x",
         "y": [
          27,
          18,
          16,
          16,
          17,
          17,
          17,
          17,
          19,
          19,
          19,
          24,
          24,
          28,
          28,
          28,
          27
         ],
         "yaxis": "y"
        },
        {
         "hovertemplate": "Institution= Rockefeller University<br>Year=%{x}<br>World Rank=%{y}<extra></extra>",
         "legendgroup": " Rockefeller University",
         "line": {
          "color": "#B6E880",
          "dash": "solid"
         },
         "marker": {
          "symbol": "circle"
         },
         "mode": "lines",
         "name": " Rockefeller University",
         "orientation": "v",
         "showlegend": true,
         "type": "scatter",
         "x": [
          2003,
          2004,
          2005,
          2006,
          2018
         ],
         "xaxis": "x",
         "y": [
          28,
          29,
          30,
          30,
          30
         ],
         "yaxis": "y"
        },
        {
         "hovertemplate": "Institution= Northwestern University<br>Year=%{x}<br>World Rank=%{y}<extra></extra>",
         "legendgroup": " Northwestern University",
         "line": {
          "color": "#FF97FF",
          "dash": "solid"
         },
         "marker": {
          "symbol": "circle"
         },
         "mode": "lines",
         "name": " Northwestern University",
         "orientation": "v",
         "showlegend": true,
         "type": "scatter",
         "x": [
          2003,
          2004,
          2007,
          2008,
          2009,
          2010,
          2011,
          2012,
          2013,
          2014,
          2015,
          2016,
          2017,
          2018,
          2019,
          2020,
          2022,
          2023
         ],
         "xaxis": "x",
         "y": [
          29,
          30,
          29,
          30,
          30,
          29,
          30,
          30,
          30,
          28,
          27,
          26,
          22,
          25,
          29,
          30,
          30,
          30
         ],
         "yaxis": "y"
        },
        {
         "hovertemplate": "Institution= Kyoto University<br>Year=%{x}<br>World Rank=%{y}<extra></extra>",
         "legendgroup": " Kyoto University",
         "line": {
          "color": "#FECB52",
          "dash": "solid"
         },
         "marker": {
          "symbol": "circle"
         },
         "mode": "lines",
         "name": " Kyoto University",
         "orientation": "v",
         "showlegend": true,
         "type": "scatter",
         "x": [
          2003,
          2004,
          2005,
          2006,
          2007,
          2008,
          2009,
          2010,
          2011,
          2012,
          2013,
          2014,
          2015
         ],
         "xaxis": "x",
         "y": [
          30,
          21,
          22,
          22,
          22,
          23,
          24,
          24,
          27,
          26,
          26,
          26,
          26
         ],
         "yaxis": "y"
        },
        {
         "hovertemplate": "Institution= University of Illinois at Urbana-Champaign<br>Year=%{x}<br>World Rank=%{y}<extra></extra>",
         "legendgroup": " University of Illinois at Urbana-Champaign",
         "line": {
          "color": "#636efa",
          "dash": "solid"
         },
         "marker": {
          "symbol": "circle"
         },
         "mode": "lines",
         "name": " University of Illinois at Urbana-Champaign",
         "orientation": "v",
         "showlegend": true,
         "type": "scatter",
         "x": [
          2004,
          2005,
          2006,
          2007,
          2008,
          2009,
          2010,
          2011,
          2012,
          2013,
          2014,
          2015
         ],
         "xaxis": "x",
         "y": [
          25,
          25,
          25,
          26,
          26,
          25,
          25,
          25,
          25,
          25,
          28,
          29
         ],
         "yaxis": "y"
        },
        {
         "hovertemplate": "Institution= New York University<br>Year=%{x}<br>World Rank=%{y}<extra></extra>",
         "legendgroup": " New York University",
         "line": {
          "color": "#EF553B",
          "dash": "solid"
         },
         "marker": {
          "symbol": "circle"
         },
         "mode": "lines",
         "name": " New York University",
         "orientation": "v",
         "showlegend": true,
         "type": "scatter",
         "x": [
          2005,
          2006,
          2007,
          2011,
          2012,
          2013,
          2014,
          2015,
          2016,
          2017,
          2019,
          2020,
          2021,
          2022,
          2023
         ],
         "xaxis": "x",
         "y": [
          29,
          29,
          30,
          29,
          27,
          27,
          27,
          27,
          29,
          29,
          30,
          27,
          27,
          25,
          28
         ],
         "yaxis": "y"
        },
        {
         "hovertemplate": "Institution= The Imperial College of Science, Technology and Medicine<br>Year=%{x}<br>World Rank=%{y}<extra></extra>",
         "legendgroup": " The Imperial College of Science, Technology and Medicine",
         "line": {
          "color": "#00cc96",
          "dash": "solid"
         },
         "marker": {
          "symbol": "circle"
         },
         "mode": "lines",
         "name": " The Imperial College of Science, Technology and Medicine",
         "orientation": "v",
         "showlegend": true,
         "type": "scatter",
         "x": [
          2008,
          2013,
          2014,
          2015,
          2016
         ],
         "xaxis": "x",
         "y": [
          27,
          24,
          22,
          23,
          22
         ],
         "yaxis": "y"
        },
        {
         "hovertemplate": "Institution= University of Minnesota, Twin Cities<br>Year=%{x}<br>World Rank=%{y}<extra></extra>",
         "legendgroup": " University of Minnesota, Twin Cities",
         "line": {
          "color": "#ab63fa",
          "dash": "solid"
         },
         "marker": {
          "symbol": "circle"
         },
         "mode": "lines",
         "name": " University of Minnesota, Twin Cities",
         "orientation": "v",
         "showlegend": true,
         "type": "scatter",
         "x": [
          2008,
          2013,
          2014,
          2015
         ],
         "xaxis": "x",
         "y": [
          28,
          29,
          30,
          30
         ],
         "yaxis": "y"
        },
        {
         "hovertemplate": "Institution= University of Minnesota<br>Year=%{x}<br>World Rank=%{y}<extra></extra>",
         "legendgroup": " University of Minnesota",
         "line": {
          "color": "#FFA15A",
          "dash": "solid"
         },
         "marker": {
          "symbol": "circle"
         },
         "mode": "lines",
         "name": " University of Minnesota",
         "orientation": "v",
         "showlegend": true,
         "type": "scatter",
         "x": [
          2009,
          2010,
          2011,
          2012
         ],
         "xaxis": "x",
         "y": [
          28,
          28,
          28,
          29
         ],
         "yaxis": "y"
        },
        {
         "hovertemplate": "Institution= University of California-Berkeley<br>Year=%{x}<br>World Rank=%{y}<extra></extra>",
         "legendgroup": " University of California-Berkeley",
         "line": {
          "color": "#19d3f3",
          "dash": "solid"
         },
         "marker": {
          "symbol": "circle"
         },
         "mode": "lines",
         "name": " University of California-Berkeley",
         "orientation": "v",
         "showlegend": true,
         "type": "scatter",
         "x": [
          2014
         ],
         "xaxis": "x",
         "y": [
          4
         ],
         "yaxis": "y"
        },
        {
         "hovertemplate": "Institution= University of Michigan-Ann Arbor<br>Year=%{x}<br>World Rank=%{y}<extra></extra>",
         "legendgroup": " University of Michigan-Ann Arbor",
         "line": {
          "color": "#FF6692",
          "dash": "solid"
         },
         "marker": {
          "symbol": "circle"
         },
         "mode": "lines",
         "name": " University of Michigan-Ann Arbor",
         "orientation": "v",
         "showlegend": true,
         "type": "scatter",
         "x": [
          2014,
          2015,
          2016,
          2017,
          2018,
          2019,
          2020,
          2022,
          2023
         ],
         "xaxis": "x",
         "y": [
          22,
          22,
          23,
          24,
          27,
          20,
          22,
          28,
          26
         ],
         "yaxis": "y"
        },
        {
         "hovertemplate": "Institution= Johns Hopkins University<br>Year=%{x}<br>World Rank=%{y}<extra></extra>",
         "legendgroup": " Johns Hopkins University",
         "line": {
          "color": "#B6E880",
          "dash": "solid"
         },
         "marker": {
          "symbol": "circle"
         },
         "mode": "lines",
         "name": " Johns Hopkins University",
         "orientation": "v",
         "showlegend": true,
         "type": "scatter",
         "x": [
          2015,
          2016,
          2017,
          2018,
          2019,
          2020,
          2021,
          2022,
          2023
         ],
         "xaxis": "x",
         "y": [
          16,
          16,
          18,
          18,
          16,
          15,
          16,
          14,
          16
         ],
         "yaxis": "y"
        },
        {
         "hovertemplate": "Institution= Duke University<br>Year=%{x}<br>World Rank=%{y}<extra></extra>",
         "legendgroup": " Duke University",
         "line": {
          "color": "#FF97FF",
          "dash": "solid"
         },
         "marker": {
          "symbol": "circle"
         },
         "mode": "lines",
         "name": " Duke University",
         "orientation": "v",
         "showlegend": true,
         "type": "scatter",
         "x": [
          2016,
          2017,
          2018,
          2019,
          2020
         ],
         "xaxis": "x",
         "y": [
          25,
          26,
          26,
          28,
          27
         ],
         "yaxis": "y"
        },
        {
         "hovertemplate": "Institution= University of Copenhagen<br>Year=%{x}<br>World Rank=%{y}<extra></extra>",
         "legendgroup": " University of Copenhagen",
         "line": {
          "color": "#FECB52",
          "dash": "solid"
         },
         "marker": {
          "symbol": "circle"
         },
         "mode": "lines",
         "name": " University of Copenhagen",
         "orientation": "v",
         "showlegend": true,
         "type": "scatter",
         "x": [
          2016,
          2017,
          2018,
          2019,
          2021
         ],
         "xaxis": "x",
         "y": [
          30,
          30,
          29,
          26,
          30
         ],
         "yaxis": "y"
        },
        {
         "hovertemplate": "Institution= Imperial College London<br>Year=%{x}<br>World Rank=%{y}<extra></extra>",
         "legendgroup": " Imperial College London",
         "line": {
          "color": "#636efa",
          "dash": "solid"
         },
         "marker": {
          "symbol": "circle"
         },
         "mode": "lines",
         "name": " Imperial College London",
         "orientation": "v",
         "showlegend": true,
         "type": "scatter",
         "x": [
          2017,
          2018,
          2019,
          2020,
          2021,
          2022,
          2023
         ],
         "xaxis": "x",
         "y": [
          27,
          24,
          23,
          25,
          25,
          23,
          23
         ],
         "yaxis": "y"
        },
        {
         "hovertemplate": "Institution= Paris-Saclay University<br>Year=%{x}<br>World Rank=%{y}<extra></extra>",
         "legendgroup": " Paris-Saclay University",
         "line": {
          "color": "#EF553B",
          "dash": "solid"
         },
         "marker": {
          "symbol": "circle"
         },
         "mode": "lines",
         "name": " Paris-Saclay University",
         "orientation": "v",
         "showlegend": true,
         "type": "scatter",
         "x": [
          2020,
          2021,
          2022,
          2023
         ],
         "xaxis": "x",
         "y": [
          14,
          13,
          16,
          15
         ],
         "yaxis": "y"
        },
        {
         "hovertemplate": "Institution= ETH Zurich<br>Year=%{x}<br>World Rank=%{y}<extra></extra>",
         "legendgroup": " ETH Zurich",
         "line": {
          "color": "#00cc96",
          "dash": "solid"
         },
         "marker": {
          "symbol": "circle"
         },
         "mode": "lines",
         "name": " ETH Zurich",
         "orientation": "v",
         "showlegend": true,
         "type": "scatter",
         "x": [
          2020,
          2021,
          2022,
          2023
         ],
         "xaxis": "x",
         "y": [
          20,
          21,
          20,
          20
         ],
         "yaxis": "y"
        },
        {
         "hovertemplate": "Institution= Tsinghua University<br>Year=%{x}<br>World Rank=%{y}<extra></extra>",
         "legendgroup": " Tsinghua University",
         "line": {
          "color": "#ab63fa",
          "dash": "solid"
         },
         "marker": {
          "symbol": "circle"
         },
         "mode": "lines",
         "name": " Tsinghua University",
         "orientation": "v",
         "showlegend": true,
         "type": "scatter",
         "x": [
          2020,
          2021,
          2022,
          2023
         ],
         "xaxis": "x",
         "y": [
          29,
          28,
          26,
          22
         ],
         "yaxis": "y"
        },
        {
         "hovertemplate": "Institution= University of North Carolina at Chapel Hill<br>Year=%{x}<br>World Rank=%{y}<extra></extra>",
         "legendgroup": " University of North Carolina at Chapel Hill",
         "line": {
          "color": "#FFA15A",
          "dash": "solid"
         },
         "marker": {
          "symbol": "circle"
         },
         "mode": "lines",
         "name": " University of North Carolina at Chapel Hill",
         "orientation": "v",
         "showlegend": true,
         "type": "scatter",
         "x": [
          2021,
          2022
         ],
         "xaxis": "x",
         "y": [
          29,
          29
         ],
         "yaxis": "y"
        },
        {
         "hovertemplate": "Institution= Peking University<br>Year=%{x}<br>World Rank=%{y}<extra></extra>",
         "legendgroup": " Peking University",
         "line": {
          "color": "#19d3f3",
          "dash": "solid"
         },
         "marker": {
          "symbol": "circle"
         },
         "mode": "lines",
         "name": " Peking University",
         "orientation": "v",
         "showlegend": true,
         "type": "scatter",
         "x": [
          2023
         ],
         "xaxis": "x",
         "y": [
          29
         ],
         "yaxis": "y"
        }
       ],
       "layout": {
        "autosize": true,
        "hovermode": "closest",
        "legend": {
         "title": {
          "text": "Institution"
         },
         "tracegroupgap": 0
        },
        "showlegend": false,
        "template": {
         "data": {
          "bar": [
           {
            "error_x": {
             "color": "#2a3f5f"
            },
            "error_y": {
             "color": "#2a3f5f"
            },
            "marker": {
             "line": {
              "color": "#E5ECF6",
              "width": 0.5
             },
             "pattern": {
              "fillmode": "overlay",
              "size": 10,
              "solidity": 0.2
             }
            },
            "type": "bar"
           }
          ],
          "barpolar": [
           {
            "marker": {
             "line": {
              "color": "#E5ECF6",
              "width": 0.5
             },
             "pattern": {
              "fillmode": "overlay",
              "size": 10,
              "solidity": 0.2
             }
            },
            "type": "barpolar"
           }
          ],
          "carpet": [
           {
            "aaxis": {
             "endlinecolor": "#2a3f5f",
             "gridcolor": "white",
             "linecolor": "white",
             "minorgridcolor": "white",
             "startlinecolor": "#2a3f5f"
            },
            "baxis": {
             "endlinecolor": "#2a3f5f",
             "gridcolor": "white",
             "linecolor": "white",
             "minorgridcolor": "white",
             "startlinecolor": "#2a3f5f"
            },
            "type": "carpet"
           }
          ],
          "choropleth": [
           {
            "colorbar": {
             "outlinewidth": 0,
             "ticks": ""
            },
            "type": "choropleth"
           }
          ],
          "contour": [
           {
            "colorbar": {
             "outlinewidth": 0,
             "ticks": ""
            },
            "colorscale": [
             [
              0,
              "#0d0887"
             ],
             [
              0.1111111111111111,
              "#46039f"
             ],
             [
              0.2222222222222222,
              "#7201a8"
             ],
             [
              0.3333333333333333,
              "#9c179e"
             ],
             [
              0.4444444444444444,
              "#bd3786"
             ],
             [
              0.5555555555555556,
              "#d8576b"
             ],
             [
              0.6666666666666666,
              "#ed7953"
             ],
             [
              0.7777777777777778,
              "#fb9f3a"
             ],
             [
              0.8888888888888888,
              "#fdca26"
             ],
             [
              1,
              "#f0f921"
             ]
            ],
            "type": "contour"
           }
          ],
          "contourcarpet": [
           {
            "colorbar": {
             "outlinewidth": 0,
             "ticks": ""
            },
            "type": "contourcarpet"
           }
          ],
          "heatmap": [
           {
            "colorbar": {
             "outlinewidth": 0,
             "ticks": ""
            },
            "colorscale": [
             [
              0,
              "#0d0887"
             ],
             [
              0.1111111111111111,
              "#46039f"
             ],
             [
              0.2222222222222222,
              "#7201a8"
             ],
             [
              0.3333333333333333,
              "#9c179e"
             ],
             [
              0.4444444444444444,
              "#bd3786"
             ],
             [
              0.5555555555555556,
              "#d8576b"
             ],
             [
              0.6666666666666666,
              "#ed7953"
             ],
             [
              0.7777777777777778,
              "#fb9f3a"
             ],
             [
              0.8888888888888888,
              "#fdca26"
             ],
             [
              1,
              "#f0f921"
             ]
            ],
            "type": "heatmap"
           }
          ],
          "heatmapgl": [
           {
            "colorbar": {
             "outlinewidth": 0,
             "ticks": ""
            },
            "colorscale": [
             [
              0,
              "#0d0887"
             ],
             [
              0.1111111111111111,
              "#46039f"
             ],
             [
              0.2222222222222222,
              "#7201a8"
             ],
             [
              0.3333333333333333,
              "#9c179e"
             ],
             [
              0.4444444444444444,
              "#bd3786"
             ],
             [
              0.5555555555555556,
              "#d8576b"
             ],
             [
              0.6666666666666666,
              "#ed7953"
             ],
             [
              0.7777777777777778,
              "#fb9f3a"
             ],
             [
              0.8888888888888888,
              "#fdca26"
             ],
             [
              1,
              "#f0f921"
             ]
            ],
            "type": "heatmapgl"
           }
          ],
          "histogram": [
           {
            "marker": {
             "pattern": {
              "fillmode": "overlay",
              "size": 10,
              "solidity": 0.2
             }
            },
            "type": "histogram"
           }
          ],
          "histogram2d": [
           {
            "colorbar": {
             "outlinewidth": 0,
             "ticks": ""
            },
            "colorscale": [
             [
              0,
              "#0d0887"
             ],
             [
              0.1111111111111111,
              "#46039f"
             ],
             [
              0.2222222222222222,
              "#7201a8"
             ],
             [
              0.3333333333333333,
              "#9c179e"
             ],
             [
              0.4444444444444444,
              "#bd3786"
             ],
             [
              0.5555555555555556,
              "#d8576b"
             ],
             [
              0.6666666666666666,
              "#ed7953"
             ],
             [
              0.7777777777777778,
              "#fb9f3a"
             ],
             [
              0.8888888888888888,
              "#fdca26"
             ],
             [
              1,
              "#f0f921"
             ]
            ],
            "type": "histogram2d"
           }
          ],
          "histogram2dcontour": [
           {
            "colorbar": {
             "outlinewidth": 0,
             "ticks": ""
            },
            "colorscale": [
             [
              0,
              "#0d0887"
             ],
             [
              0.1111111111111111,
              "#46039f"
             ],
             [
              0.2222222222222222,
              "#7201a8"
             ],
             [
              0.3333333333333333,
              "#9c179e"
             ],
             [
              0.4444444444444444,
              "#bd3786"
             ],
             [
              0.5555555555555556,
              "#d8576b"
             ],
             [
              0.6666666666666666,
              "#ed7953"
             ],
             [
              0.7777777777777778,
              "#fb9f3a"
             ],
             [
              0.8888888888888888,
              "#fdca26"
             ],
             [
              1,
              "#f0f921"
             ]
            ],
            "type": "histogram2dcontour"
           }
          ],
          "mesh3d": [
           {
            "colorbar": {
             "outlinewidth": 0,
             "ticks": ""
            },
            "type": "mesh3d"
           }
          ],
          "parcoords": [
           {
            "line": {
             "colorbar": {
              "outlinewidth": 0,
              "ticks": ""
             }
            },
            "type": "parcoords"
           }
          ],
          "pie": [
           {
            "automargin": true,
            "type": "pie"
           }
          ],
          "scatter": [
           {
            "fillpattern": {
             "fillmode": "overlay",
             "size": 10,
             "solidity": 0.2
            },
            "type": "scatter"
           }
          ],
          "scatter3d": [
           {
            "line": {
             "colorbar": {
              "outlinewidth": 0,
              "ticks": ""
             }
            },
            "marker": {
             "colorbar": {
              "outlinewidth": 0,
              "ticks": ""
             }
            },
            "type": "scatter3d"
           }
          ],
          "scattercarpet": [
           {
            "marker": {
             "colorbar": {
              "outlinewidth": 0,
              "ticks": ""
             }
            },
            "type": "scattercarpet"
           }
          ],
          "scattergeo": [
           {
            "marker": {
             "colorbar": {
              "outlinewidth": 0,
              "ticks": ""
             }
            },
            "type": "scattergeo"
           }
          ],
          "scattergl": [
           {
            "marker": {
             "colorbar": {
              "outlinewidth": 0,
              "ticks": ""
             }
            },
            "type": "scattergl"
           }
          ],
          "scattermapbox": [
           {
            "marker": {
             "colorbar": {
              "outlinewidth": 0,
              "ticks": ""
             }
            },
            "type": "scattermapbox"
           }
          ],
          "scatterpolar": [
           {
            "marker": {
             "colorbar": {
              "outlinewidth": 0,
              "ticks": ""
             }
            },
            "type": "scatterpolar"
           }
          ],
          "scatterpolargl": [
           {
            "marker": {
             "colorbar": {
              "outlinewidth": 0,
              "ticks": ""
             }
            },
            "type": "scatterpolargl"
           }
          ],
          "scatterternary": [
           {
            "marker": {
             "colorbar": {
              "outlinewidth": 0,
              "ticks": ""
             }
            },
            "type": "scatterternary"
           }
          ],
          "surface": [
           {
            "colorbar": {
             "outlinewidth": 0,
             "ticks": ""
            },
            "colorscale": [
             [
              0,
              "#0d0887"
             ],
             [
              0.1111111111111111,
              "#46039f"
             ],
             [
              0.2222222222222222,
              "#7201a8"
             ],
             [
              0.3333333333333333,
              "#9c179e"
             ],
             [
              0.4444444444444444,
              "#bd3786"
             ],
             [
              0.5555555555555556,
              "#d8576b"
             ],
             [
              0.6666666666666666,
              "#ed7953"
             ],
             [
              0.7777777777777778,
              "#fb9f3a"
             ],
             [
              0.8888888888888888,
              "#fdca26"
             ],
             [
              1,
              "#f0f921"
             ]
            ],
            "type": "surface"
           }
          ],
          "table": [
           {
            "cells": {
             "fill": {
              "color": "#EBF0F8"
             },
             "line": {
              "color": "white"
             }
            },
            "header": {
             "fill": {
              "color": "#C8D4E3"
             },
             "line": {
              "color": "white"
             }
            },
            "type": "table"
           }
          ]
         },
         "layout": {
          "annotationdefaults": {
           "arrowcolor": "#2a3f5f",
           "arrowhead": 0,
           "arrowwidth": 1
          },
          "autotypenumbers": "strict",
          "coloraxis": {
           "colorbar": {
            "outlinewidth": 0,
            "ticks": ""
           }
          },
          "colorscale": {
           "diverging": [
            [
             0,
             "#8e0152"
            ],
            [
             0.1,
             "#c51b7d"
            ],
            [
             0.2,
             "#de77ae"
            ],
            [
             0.3,
             "#f1b6da"
            ],
            [
             0.4,
             "#fde0ef"
            ],
            [
             0.5,
             "#f7f7f7"
            ],
            [
             0.6,
             "#e6f5d0"
            ],
            [
             0.7,
             "#b8e186"
            ],
            [
             0.8,
             "#7fbc41"
            ],
            [
             0.9,
             "#4d9221"
            ],
            [
             1,
             "#276419"
            ]
           ],
           "sequential": [
            [
             0,
             "#0d0887"
            ],
            [
             0.1111111111111111,
             "#46039f"
            ],
            [
             0.2222222222222222,
             "#7201a8"
            ],
            [
             0.3333333333333333,
             "#9c179e"
            ],
            [
             0.4444444444444444,
             "#bd3786"
            ],
            [
             0.5555555555555556,
             "#d8576b"
            ],
            [
             0.6666666666666666,
             "#ed7953"
            ],
            [
             0.7777777777777778,
             "#fb9f3a"
            ],
            [
             0.8888888888888888,
             "#fdca26"
            ],
            [
             1,
             "#f0f921"
            ]
           ],
           "sequentialminus": [
            [
             0,
             "#0d0887"
            ],
            [
             0.1111111111111111,
             "#46039f"
            ],
            [
             0.2222222222222222,
             "#7201a8"
            ],
            [
             0.3333333333333333,
             "#9c179e"
            ],
            [
             0.4444444444444444,
             "#bd3786"
            ],
            [
             0.5555555555555556,
             "#d8576b"
            ],
            [
             0.6666666666666666,
             "#ed7953"
            ],
            [
             0.7777777777777778,
             "#fb9f3a"
            ],
            [
             0.8888888888888888,
             "#fdca26"
            ],
            [
             1,
             "#f0f921"
            ]
           ]
          },
          "colorway": [
           "#636efa",
           "#EF553B",
           "#00cc96",
           "#ab63fa",
           "#FFA15A",
           "#19d3f3",
           "#FF6692",
           "#B6E880",
           "#FF97FF",
           "#FECB52"
          ],
          "font": {
           "color": "#2a3f5f"
          },
          "geo": {
           "bgcolor": "white",
           "lakecolor": "white",
           "landcolor": "#E5ECF6",
           "showlakes": true,
           "showland": true,
           "subunitcolor": "white"
          },
          "hoverlabel": {
           "align": "left"
          },
          "hovermode": "closest",
          "mapbox": {
           "style": "light"
          },
          "paper_bgcolor": "white",
          "plot_bgcolor": "#E5ECF6",
          "polar": {
           "angularaxis": {
            "gridcolor": "white",
            "linecolor": "white",
            "ticks": ""
           },
           "bgcolor": "#E5ECF6",
           "radialaxis": {
            "gridcolor": "white",
            "linecolor": "white",
            "ticks": ""
           }
          },
          "scene": {
           "xaxis": {
            "backgroundcolor": "#E5ECF6",
            "gridcolor": "white",
            "gridwidth": 2,
            "linecolor": "white",
            "showbackground": true,
            "ticks": "",
            "zerolinecolor": "white"
           },
           "yaxis": {
            "backgroundcolor": "#E5ECF6",
            "gridcolor": "white",
            "gridwidth": 2,
            "linecolor": "white",
            "showbackground": true,
            "ticks": "",
            "zerolinecolor": "white"
           },
           "zaxis": {
            "backgroundcolor": "#E5ECF6",
            "gridcolor": "white",
            "gridwidth": 2,
            "linecolor": "white",
            "showbackground": true,
            "ticks": "",
            "zerolinecolor": "white"
           }
          },
          "shapedefaults": {
           "line": {
            "color": "#2a3f5f"
           }
          },
          "ternary": {
           "aaxis": {
            "gridcolor": "white",
            "linecolor": "white",
            "ticks": ""
           },
           "baxis": {
            "gridcolor": "white",
            "linecolor": "white",
            "ticks": ""
           },
           "bgcolor": "#E5ECF6",
           "caxis": {
            "gridcolor": "white",
            "linecolor": "white",
            "ticks": ""
           }
          },
          "title": {
           "x": 0.05
          },
          "xaxis": {
           "automargin": true,
           "gridcolor": "white",
           "linecolor": "white",
           "ticks": "",
           "title": {
            "standoff": 15
           },
           "zerolinecolor": "white",
           "zerolinewidth": 2
          },
          "yaxis": {
           "automargin": true,
           "gridcolor": "white",
           "linecolor": "white",
           "ticks": "",
           "title": {
            "standoff": 15
           },
           "zerolinecolor": "white",
           "zerolinewidth": 2
          }
         }
        },
        "title": {
         "text": "World Rank of Institutions Over Years"
        },
        "xaxis": {
         "anchor": "y",
         "autorange": true,
         "domain": [
          0,
          1
         ],
         "range": [
          "2003-01-01",
          "2023-01-01"
         ],
         "rangeslider": {
          "autorange": true,
          "range": [
           "2003-01-01",
           "2023-01-01"
          ],
          "visible": true,
          "yaxis": {
           "_template": null,
           "rangemode": "match"
          }
         },
         "title": {
          "text": ""
         },
         "type": "date"
        },
        "yaxis": {
         "anchor": "x",
         "autorange": false,
         "domain": [
          0,
          1
         ],
         "range": [
          30,
          1
         ],
         "title": {
          "text": "World Rank"
         },
         "type": "linear"
        }
       }
      },
      "image/png": "[encoded data removed]",
      "text/html": [
       "<div>                            <div id=\"743a1962-dab7-4552-b50e-fb13194b99b9\" class=\"plotly-graph-div\" style=\"height:900px; width:100%;\"></div>            <script type=\"text/javascript\">                require([\"plotly\"], function(Plotly) {                    window.PLOTLYENV=window.PLOTLYENV || {};                                    if (document.getElementById(\"743a1962-dab7-4552-b50e-fb13194b99b9\")) {                    Plotly.newPlot(                        \"743a1962-dab7-4552-b50e-fb13194b99b9\",                        [{\"hovertemplate\":\"Institution= Harvard University<br>Year=%{x}<br>World Rank=%{y}<extra></extra>\",\"legendgroup\":\" Harvard University\",\"line\":{\"color\":\"#636efa\",\"dash\":\"solid\"},\"marker\":{\"symbol\":\"circle\"},\"mode\":\"lines\",\"name\":\" Harvard University\",\"orientation\":\"v\",\"showlegend\":true,\"x\":[2003,2004,2005,2006,2007,2008,2009,2010,2011,2012,2013,2014,2015,2016,2017,2018,2019,2020,2021,2022,2023],\"xaxis\":\"x\",\"y\":[1,1,1,1,1,1,1,1,1,1,1,1,1,1,1,1,1,1,1,1,1],\"yaxis\":\"y\",\"type\":\"scatter\"},{\"hovertemplate\":\"Institution= Stanford University<br>Year=%{x}<br>World Rank=%{y}<extra></extra>\",\"legendgroup\":\" Stanford University\",\"line\":{\"color\":\"#EF553B\",\"dash\":\"solid\"},\"marker\":{\"symbol\":\"circle\"},\"mode\":\"lines\",\"name\":\" Stanford University\",\"orientation\":\"v\",\"showlegend\":true,\"x\":[2003,2004,2005,2006,2007,2008,2009,2010,2011,2012,2013,2014,2015,2016,2017,2018,2019,2020,2021,2022,2023],\"xaxis\":\"x\",\"y\":[2,2,3,3,2,2,2,3,2,2,2,2,2,2,2,2,2,2,2,2,2],\"yaxis\":\"y\",\"type\":\"scatter\"},{\"hovertemplate\":\"Institution= California Institute of Technology<br>Year=%{x}<br>World Rank=%{y}<extra></extra>\",\"legendgroup\":\" California Institute of Technology\",\"line\":{\"color\":\"#00cc96\",\"dash\":\"solid\"},\"marker\":{\"symbol\":\"circle\"},\"mode\":\"lines\",\"name\":\" California Institute of Technology\",\"orientation\":\"v\",\"showlegend\":true,\"x\":[2003,2004,2005,2006,2007,2008,2009,2010,2011,2012,2013,2014,2015,2016,2017,2018,2019,2020,2021,2022,2023],\"xaxis\":\"x\",\"y\":[3,6,6,6,6,6,6,6,6,6,6,7,7,8,9,9,9,8,9,9,9],\"yaxis\":\"y\",\"type\":\"scatter\"},{\"hovertemplate\":\"Institution= University of California, Berkeley<br>Year=%{x}<br>World Rank=%{y}<extra></extra>\",\"legendgroup\":\" University of California, Berkeley\",\"line\":{\"color\":\"#ab63fa\",\"dash\":\"solid\"},\"marker\":{\"symbol\":\"circle\"},\"mode\":\"lines\",\"name\":\" University of California, Berkeley\",\"orientation\":\"v\",\"showlegend\":true,\"x\":[2003,2004,2005,2006,2007,2008,2009,2010,2011,2012,2013,2015,2016,2017,2018,2019,2020,2021,2022,2023],\"xaxis\":\"x\",\"y\":[4,4,4,4,3,3,3,2,4,4,3,4,3,5,5,5,5,5,5,5],\"yaxis\":\"y\",\"type\":\"scatter\"},{\"hovertemplate\":\"Institution= University of Cambridge<br>Year=%{x}<br>World Rank=%{y}<extra></extra>\",\"legendgroup\":\" University of Cambridge\",\"line\":{\"color\":\"#FFA15A\",\"dash\":\"solid\"},\"marker\":{\"symbol\":\"circle\"},\"mode\":\"lines\",\"name\":\" University of Cambridge\",\"orientation\":\"v\",\"showlegend\":true,\"x\":[2003,2004,2005,2006,2007,2008,2009,2010,2011,2012,2013,2014,2015,2016,2017,2018,2019,2020,2021,2022,2023],\"xaxis\":\"x\",\"y\":[5,3,2,2,4,4,4,5,5,5,5,5,5,4,3,3,3,3,3,4,4],\"yaxis\":\"y\",\"type\":\"scatter\"},{\"hovertemplate\":\"Institution= Massachusetts Institute of Technology (MIT)<br>Year=%{x}<br>World Rank=%{y}<extra></extra>\",\"legendgroup\":\" Massachusetts Institute of Technology (MIT)\",\"line\":{\"color\":\"#19d3f3\",\"dash\":\"solid\"},\"marker\":{\"symbol\":\"circle\"},\"mode\":\"lines\",\"name\":\" Massachusetts Institute of Technology (MIT)\",\"orientation\":\"v\",\"showlegend\":true,\"x\":[2003,2004,2005,2006,2007,2008,2009,2010,2011,2012,2013,2014,2015,2016,2017,2018,2019,2020,2021,2022,2023],\"xaxis\":\"x\",\"y\":[6,5,5,5,5,5,5,4,3,3,4,3,3,5,4,4,4,4,4,3,3],\"yaxis\":\"y\",\"type\":\"scatter\"},{\"hovertemplate\":\"Institution= Princeton University<br>Year=%{x}<br>World Rank=%{y}<extra></extra>\",\"legendgroup\":\" Princeton University\",\"line\":{\"color\":\"#FF6692\",\"dash\":\"solid\"},\"marker\":{\"symbol\":\"circle\"},\"mode\":\"lines\",\"name\":\" Princeton University\",\"orientation\":\"v\",\"showlegend\":true,\"x\":[2003,2004,2005,2006,2007,2008,2009,2010,2011,2012,2013,2014,2015,2016,2017,2018,2019,2020,2021,2022,2023],\"xaxis\":\"x\",\"y\":[7,7,8,8,8,8,8,7,7,7,7,6,6,6,6,6,6,6,6,6,6],\"yaxis\":\"y\",\"type\":\"scatter\"},{\"hovertemplate\":\"Institution= Yale University<br>Year=%{x}<br>World Rank=%{y}<extra></extra>\",\"legendgroup\":\" Yale University\",\"line\":{\"color\":\"#B6E880\",\"dash\":\"solid\"},\"marker\":{\"symbol\":\"circle\"},\"mode\":\"lines\",\"name\":\" Yale University\",\"orientation\":\"v\",\"showlegend\":true,\"x\":[2003,2004,2005,2006,2007,2008,2009,2010,2011,2012,2013,2014,2015,2016,2017,2018,2019,2020,2021,2022,2023],\"xaxis\":\"x\",\"y\":[8,11,11,11,11,11,11,11,11,11,11,11,11,11,11,12,11,11,11,11,11],\"yaxis\":\"y\",\"type\":\"scatter\"},{\"hovertemplate\":\"Institution= University of Oxford<br>Year=%{x}<br>World Rank=%{y}<extra></extra>\",\"legendgroup\":\" University of Oxford\",\"line\":{\"color\":\"#FF97FF\",\"dash\":\"solid\"},\"marker\":{\"symbol\":\"circle\"},\"mode\":\"lines\",\"name\":\" University of Oxford\",\"orientation\":\"v\",\"showlegend\":true,\"x\":[2003,2004,2005,2006,2007,2008,2009,2010,2011,2012,2013,2014,2015,2016,2017,2018,2019,2020,2021,2022,2023],\"xaxis\":\"x\",\"y\":[9,8,10,10,10,10,10,10,10,10,10,9,10,7,7,7,7,9,7,7,7],\"yaxis\":\"y\",\"type\":\"scatter\"},{\"hovertemplate\":\"Institution= Columbia University<br>Year=%{x}<br>World Rank=%{y}<extra></extra>\",\"legendgroup\":\" Columbia University\",\"line\":{\"color\":\"#FECB52\",\"dash\":\"solid\"},\"marker\":{\"symbol\":\"circle\"},\"mode\":\"lines\",\"name\":\" Columbia University\",\"orientation\":\"v\",\"showlegend\":true,\"x\":[2003,2004,2005,2006,2007,2008,2009,2010,2011,2012,2013,2014,2015,2016,2017,2018,2019,2020,2021,2022,2023],\"xaxis\":\"x\",\"y\":[10,9,7,7,7,7,7,8,8,8,8,8,8,9,8,8,8,7,8,8,8],\"yaxis\":\"y\",\"type\":\"scatter\"},{\"hovertemplate\":\"Institution= University of Chicago<br>Year=%{x}<br>World Rank=%{y}<extra></extra>\",\"legendgroup\":\" University of Chicago\",\"line\":{\"color\":\"#636efa\",\"dash\":\"solid\"},\"marker\":{\"symbol\":\"circle\"},\"mode\":\"lines\",\"name\":\" University of Chicago\",\"orientation\":\"v\",\"showlegend\":true,\"x\":[2003,2004,2005,2006,2007,2008,2009,2010,2011,2012,2013,2014,2015,2016,2017,2018,2019,2020,2021,2022,2023],\"xaxis\":\"x\",\"y\":[11,10,9,8,9,9,9,9,9,9,9,9,9,10,10,10,10,10,10,10,10],\"yaxis\":\"y\",\"type\":\"scatter\"},{\"hovertemplate\":\"Institution= Cornell University<br>Year=%{x}<br>World Rank=%{y}<extra></extra>\",\"legendgroup\":\" Cornell University\",\"line\":{\"color\":\"#EF553B\",\"dash\":\"solid\"},\"marker\":{\"symbol\":\"circle\"},\"mode\":\"lines\",\"name\":\" Cornell University\",\"orientation\":\"v\",\"showlegend\":true,\"x\":[2003,2004,2005,2006,2007,2008,2009,2010,2011,2012,2013,2014,2015,2016,2017,2018,2019,2020,2021,2022,2023],\"xaxis\":\"x\",\"y\":[12,12,12,12,12,12,12,12,13,13,13,13,13,13,14,12,13,12,12,12,12],\"yaxis\":\"y\",\"type\":\"scatter\"},{\"hovertemplate\":\"Institution= University of California, San Francisco<br>Year=%{x}<br>World Rank=%{y}<extra></extra>\",\"legendgroup\":\" University of California, San Francisco\",\"line\":{\"color\":\"#00cc96\",\"dash\":\"solid\"},\"marker\":{\"symbol\":\"circle\"},\"mode\":\"lines\",\"name\":\" University of California, San Francisco\",\"orientation\":\"v\",\"showlegend\":true,\"x\":[2003,2004,2005,2006,2007,2008,2009,2010,2011,2012,2013,2014,2015,2016,2017,2018,2019,2020,2021,2022,2023],\"xaxis\":\"x\",\"y\":[13,17,18,18,18,18,18,18,17,18,18,18,18,21,21,21,20,21,20,19,21],\"yaxis\":\"y\",\"type\":\"scatter\"},{\"hovertemplate\":\"Institution= University of California, San Diego<br>Year=%{x}<br>World Rank=%{y}<extra></extra>\",\"legendgroup\":\" University of California, San Diego\",\"line\":{\"color\":\"#ab63fa\",\"dash\":\"solid\"},\"marker\":{\"symbol\":\"circle\"},\"mode\":\"lines\",\"name\":\" University of California, San Diego\",\"orientation\":\"v\",\"showlegend\":true,\"x\":[2003,2004,2005,2006,2007,2008,2009,2010,2011,2012,2013,2014,2015,2016,2017,2018,2019,2020,2021,2022,2023],\"xaxis\":\"x\",\"y\":[14,13,13,13,14,14,14,14,15,15,14,14,14,14,15,15,18,18,18,21,19],\"yaxis\":\"y\",\"type\":\"scatter\"},{\"hovertemplate\":\"Institution= University of California, Los Angeles<br>Year=%{x}<br>World Rank=%{y}<extra></extra>\",\"legendgroup\":\" University of California, Los Angeles\",\"line\":{\"color\":\"#FFA15A\",\"dash\":\"solid\"},\"marker\":{\"symbol\":\"circle\"},\"mode\":\"lines\",\"name\":\" University of California, Los Angeles\",\"orientation\":\"v\",\"showlegend\":true,\"x\":[2003,2004,2005,2006,2007,2008,2009,2010,2011,2012,2013,2014,2015,2016,2017,2018,2019,2020,2021,2022,2023],\"xaxis\":\"x\",\"y\":[15,16,14,14,13,13,13,13,12,12,12,12,12,12,12,11,11,13,14,13,13],\"yaxis\":\"y\",\"type\":\"scatter\"},{\"hovertemplate\":\"Institution= University of Washington<br>Year=%{x}<br>World Rank=%{y}<extra></extra>\",\"legendgroup\":\" University of Washington\",\"line\":{\"color\":\"#19d3f3\",\"dash\":\"solid\"},\"marker\":{\"symbol\":\"circle\"},\"mode\":\"lines\",\"name\":\" University of Washington\",\"orientation\":\"v\",\"showlegend\":true,\"x\":[2003,2004,2005,2006,2007,2008,2009,2010,2011,2012,2013,2014,2015,2016,2017,2018,2019,2020,2021,2022,2023],\"xaxis\":\"x\",\"y\":[16,20,17,17,16,16,16,16,16,16,16,15,15,15,13,14,14,16,19,17,18],\"yaxis\":\"y\",\"type\":\"scatter\"},{\"hovertemplate\":\"Institution= The Imperial College of Science<br>Year=%{x}<br>World Rank=%{y}<extra></extra>\",\"legendgroup\":\" The Imperial College of Science\",\"line\":{\"color\":\"#FF6692\",\"dash\":\"solid\"},\"marker\":{\"symbol\":\"circle\"},\"mode\":\"lines\",\"name\":\" The Imperial College of Science\",\"orientation\":\"v\",\"showlegend\":true,\"x\":[2003,2004,2005,2006,2007,2009,2010,2011,2012],\"xaxis\":\"x\",\"y\":[17,23,23,23,23,26,26,24,24],\"yaxis\":\"y\",\"type\":\"scatter\"},{\"hovertemplate\":\"Institution= University of Pennsylvania<br>Year=%{x}<br>World Rank=%{y}<extra></extra>\",\"legendgroup\":\" University of Pennsylvania\",\"line\":{\"color\":\"#B6E880\",\"dash\":\"solid\"},\"marker\":{\"symbol\":\"circle\"},\"mode\":\"lines\",\"name\":\" University of Pennsylvania\",\"orientation\":\"v\",\"showlegend\":true,\"x\":[2003,2004,2005,2006,2007,2008,2009,2010,2011,2012,2013,2014,2015,2016,2017,2018,2019,2020,2021,2022,2023],\"xaxis\":\"x\",\"y\":[18,15,15,15,15,15,15,15,14,14,15,16,17,18,17,16,17,19,15,15,14],\"yaxis\":\"y\",\"type\":\"scatter\"},{\"hovertemplate\":\"Institution= The University of Tokyo<br>Year=%{x}<br>World Rank=%{y}<extra></extra>\",\"legendgroup\":\" The University of Tokyo\",\"line\":{\"color\":\"#FF97FF\",\"dash\":\"solid\"},\"marker\":{\"symbol\":\"circle\"},\"mode\":\"lines\",\"name\":\" The University of Tokyo\",\"orientation\":\"v\",\"showlegend\":true,\"x\":[2003,2004,2005,2006,2007,2008,2009,2010,2011,2012,2013,2014,2015,2016,2017,2018,2019,2020,2021,2022,2023],\"xaxis\":\"x\",\"y\":[19,14,20,19,20,19,20,20,21,20,21,21,21,20,24,22,25,26,24,24,27],\"yaxis\":\"y\",\"type\":\"scatter\"},{\"hovertemplate\":\"Institution= University College London<br>Year=%{x}<br>World Rank=%{y}<extra></extra>\",\"legendgroup\":\" University College London\",\"line\":{\"color\":\"#FECB52\",\"dash\":\"solid\"},\"marker\":{\"symbol\":\"circle\"},\"mode\":\"lines\",\"name\":\" University College London\",\"orientation\":\"v\",\"showlegend\":true,\"x\":[2003,2004,2005,2006,2007,2008,2009,2010,2011,2012,2013,2014,2015,2016,2017,2018,2019,2020,2021,2022,2023],\"xaxis\":\"x\",\"y\":[20,25,26,26,25,22,21,21,20,21,21,20,18,17,16,17,15,16,17,18,17],\"yaxis\":\"y\",\"type\":\"scatter\"},{\"hovertemplate\":\"Institution= University of Michigan - Ann Arbor<br>Year=%{x}<br>World Rank=%{y}<extra></extra>\",\"legendgroup\":\" University of Michigan - Ann Arbor\",\"line\":{\"color\":\"#636efa\",\"dash\":\"solid\"},\"marker\":{\"symbol\":\"circle\"},\"mode\":\"lines\",\"name\":\" University of Michigan - Ann Arbor\",\"orientation\":\"v\",\"showlegend\":true,\"x\":[2003,2004,2005,2006,2007,2008,2009,2010,2011,2012,2013,2021],\"xaxis\":\"x\",\"y\":[21,19,21,21,21,21,22,22,22,22,23,26],\"yaxis\":\"y\",\"type\":\"scatter\"},{\"hovertemplate\":\"Institution= Washington University in St. Louis<br>Year=%{x}<br>World Rank=%{y}<extra></extra>\",\"legendgroup\":\" Washington University in St. Louis\",\"line\":{\"color\":\"#EF553B\",\"dash\":\"solid\"},\"marker\":{\"symbol\":\"circle\"},\"mode\":\"lines\",\"name\":\" Washington University in St. Louis\",\"orientation\":\"v\",\"showlegend\":true,\"x\":[2003,2004,2005,2006,2007,2008,2009,2010,2016,2017,2018,2019,2020,2021,2022,2023],\"xaxis\":\"x\",\"y\":[22,28,28,28,28,29,29,30,23,20,20,22,23,23,27,25],\"yaxis\":\"y\",\"type\":\"scatter\"},{\"hovertemplate\":\"Institution= University of Toronto<br>Year=%{x}<br>World Rank=%{y}<extra></extra>\",\"legendgroup\":\" University of Toronto\",\"line\":{\"color\":\"#00cc96\",\"dash\":\"solid\"},\"marker\":{\"symbol\":\"circle\"},\"mode\":\"lines\",\"name\":\" University of Toronto\",\"orientation\":\"v\",\"showlegend\":true,\"x\":[2003,2004,2005,2006,2007,2008,2009,2010,2011,2012,2013,2014,2015,2016,2017,2018,2019,2020,2021,2022,2023],\"xaxis\":\"x\",\"y\":[23,24,24,24,23,24,27,27,26,27,28,24,25,27,23,23,24,23,22,22,24],\"yaxis\":\"y\",\"type\":\"scatter\"},{\"hovertemplate\":\"Institution= The Johns Hopkins University<br>Year=%{x}<br>World Rank=%{y}<extra></extra>\",\"legendgroup\":\" The Johns Hopkins University\",\"line\":{\"color\":\"#ab63fa\",\"dash\":\"solid\"},\"marker\":{\"symbol\":\"circle\"},\"mode\":\"lines\",\"name\":\" The Johns Hopkins University\",\"orientation\":\"v\",\"showlegend\":true,\"x\":[2003,2004,2005,2006,2007,2008,2009,2010,2011,2012,2013,2014],\"xaxis\":\"x\",\"y\":[24,22,19,20,19,20,19,18,18,17,17,17],\"yaxis\":\"y\",\"type\":\"scatter\"},{\"hovertemplate\":\"Institution= Swiss Federal Institute of Technology Zurich<br>Year=%{x}<br>World Rank=%{y}<extra></extra>\",\"legendgroup\":\" Swiss Federal Institute of Technology Zurich\",\"line\":{\"color\":\"#FFA15A\",\"dash\":\"solid\"},\"marker\":{\"symbol\":\"circle\"},\"mode\":\"lines\",\"name\":\" Swiss Federal Institute of Technology Zurich\",\"orientation\":\"v\",\"showlegend\":true,\"x\":[2003,2004,2005,2006,2007,2008,2009,2010,2011,2012,2013,2014,2015,2016,2017,2018,2019],\"xaxis\":\"x\",\"y\":[25,27,27,27,27,24,23,23,23,23,20,19,20,19,19,19,19],\"yaxis\":\"y\",\"type\":\"scatter\"},{\"hovertemplate\":\"Institution= University of California, Santa Barbara<br>Year=%{x}<br>World Rank=%{y}<extra></extra>\",\"legendgroup\":\" University of California, Santa Barbara\",\"line\":{\"color\":\"#19d3f3\",\"dash\":\"solid\"},\"marker\":{\"symbol\":\"circle\"},\"mode\":\"lines\",\"name\":\" University of California, Santa Barbara\",\"orientation\":\"v\",\"showlegend\":true,\"x\":[2003],\"xaxis\":\"x\",\"y\":[26],\"yaxis\":\"y\",\"type\":\"scatter\"},{\"hovertemplate\":\"Institution= University of Wisconsin - Madison<br>Year=%{x}<br>World Rank=%{y}<extra></extra>\",\"legendgroup\":\" University of Wisconsin - Madison\",\"line\":{\"color\":\"#FF6692\",\"dash\":\"solid\"},\"marker\":{\"symbol\":\"circle\"},\"mode\":\"lines\",\"name\":\" University of Wisconsin - Madison\",\"orientation\":\"v\",\"showlegend\":true,\"x\":[2003,2004,2005,2006,2007,2008,2009,2010,2011,2012,2013,2014,2015,2016,2017,2018,2019],\"xaxis\":\"x\",\"y\":[27,18,16,16,17,17,17,17,19,19,19,24,24,28,28,28,27],\"yaxis\":\"y\",\"type\":\"scatter\"},{\"hovertemplate\":\"Institution= Rockefeller University<br>Year=%{x}<br>World Rank=%{y}<extra></extra>\",\"legendgroup\":\" Rockefeller University\",\"line\":{\"color\":\"#B6E880\",\"dash\":\"solid\"},\"marker\":{\"symbol\":\"circle\"},\"mode\":\"lines\",\"name\":\" Rockefeller University\",\"orientation\":\"v\",\"showlegend\":true,\"x\":[2003,2004,2005,2006,2018],\"xaxis\":\"x\",\"y\":[28,29,30,30,30],\"yaxis\":\"y\",\"type\":\"scatter\"},{\"hovertemplate\":\"Institution= Northwestern University<br>Year=%{x}<br>World Rank=%{y}<extra></extra>\",\"legendgroup\":\" Northwestern University\",\"line\":{\"color\":\"#FF97FF\",\"dash\":\"solid\"},\"marker\":{\"symbol\":\"circle\"},\"mode\":\"lines\",\"name\":\" Northwestern University\",\"orientation\":\"v\",\"showlegend\":true,\"x\":[2003,2004,2007,2008,2009,2010,2011,2012,2013,2014,2015,2016,2017,2018,2019,2020,2022,2023],\"xaxis\":\"x\",\"y\":[29,30,29,30,30,29,30,30,30,28,27,26,22,25,29,30,30,30],\"yaxis\":\"y\",\"type\":\"scatter\"},{\"hovertemplate\":\"Institution= Kyoto University<br>Year=%{x}<br>World Rank=%{y}<extra></extra>\",\"legendgroup\":\" Kyoto University\",\"line\":{\"color\":\"#FECB52\",\"dash\":\"solid\"},\"marker\":{\"symbol\":\"circle\"},\"mode\":\"lines\",\"name\":\" Kyoto University\",\"orientation\":\"v\",\"showlegend\":true,\"x\":[2003,2004,2005,2006,2007,2008,2009,2010,2011,2012,2013,2014,2015],\"xaxis\":\"x\",\"y\":[30,21,22,22,22,23,24,24,27,26,26,26,26],\"yaxis\":\"y\",\"type\":\"scatter\"},{\"hovertemplate\":\"Institution= University of Illinois at Urbana-Champaign<br>Year=%{x}<br>World Rank=%{y}<extra></extra>\",\"legendgroup\":\" University of Illinois at Urbana-Champaign\",\"line\":{\"color\":\"#636efa\",\"dash\":\"solid\"},\"marker\":{\"symbol\":\"circle\"},\"mode\":\"lines\",\"name\":\" University of Illinois at Urbana-Champaign\",\"orientation\":\"v\",\"showlegend\":true,\"x\":[2004,2005,2006,2007,2008,2009,2010,2011,2012,2013,2014,2015],\"xaxis\":\"x\",\"y\":[25,25,25,26,26,25,25,25,25,25,28,29],\"yaxis\":\"y\",\"type\":\"scatter\"},{\"hovertemplate\":\"Institution= New York University<br>Year=%{x}<br>World Rank=%{y}<extra></extra>\",\"legendgroup\":\" New York University\",\"line\":{\"color\":\"#EF553B\",\"dash\":\"solid\"},\"marker\":{\"symbol\":\"circle\"},\"mode\":\"lines\",\"name\":\" New York University\",\"orientation\":\"v\",\"showlegend\":true,\"x\":[2005,2006,2007,2011,2012,2013,2014,2015,2016,2017,2019,2020,2021,2022,2023],\"xaxis\":\"x\",\"y\":[29,29,30,29,27,27,27,27,29,29,30,27,27,25,28],\"yaxis\":\"y\",\"type\":\"scatter\"},{\"hovertemplate\":\"Institution= The Imperial College of Science, Technology and Medicine<br>Year=%{x}<br>World Rank=%{y}<extra></extra>\",\"legendgroup\":\" The Imperial College of Science, Technology and Medicine\",\"line\":{\"color\":\"#00cc96\",\"dash\":\"solid\"},\"marker\":{\"symbol\":\"circle\"},\"mode\":\"lines\",\"name\":\" The Imperial College of Science, Technology and Medicine\",\"orientation\":\"v\",\"showlegend\":true,\"x\":[2008,2013,2014,2015,2016],\"xaxis\":\"x\",\"y\":[27,24,22,23,22],\"yaxis\":\"y\",\"type\":\"scatter\"},{\"hovertemplate\":\"Institution= University of Minnesota, Twin Cities<br>Year=%{x}<br>World Rank=%{y}<extra></extra>\",\"legendgroup\":\" University of Minnesota, Twin Cities\",\"line\":{\"color\":\"#ab63fa\",\"dash\":\"solid\"},\"marker\":{\"symbol\":\"circle\"},\"mode\":\"lines\",\"name\":\" University of Minnesota, Twin Cities\",\"orientation\":\"v\",\"showlegend\":true,\"x\":[2008,2013,2014,2015],\"xaxis\":\"x\",\"y\":[28,29,30,30],\"yaxis\":\"y\",\"type\":\"scatter\"},{\"hovertemplate\":\"Institution= University of Minnesota<br>Year=%{x}<br>World Rank=%{y}<extra></extra>\",\"legendgroup\":\" University of Minnesota\",\"line\":{\"color\":\"#FFA15A\",\"dash\":\"solid\"},\"marker\":{\"symbol\":\"circle\"},\"mode\":\"lines\",\"name\":\" University of Minnesota\",\"orientation\":\"v\",\"showlegend\":true,\"x\":[2009,2010,2011,2012],\"xaxis\":\"x\",\"y\":[28,28,28,29],\"yaxis\":\"y\",\"type\":\"scatter\"},{\"hovertemplate\":\"Institution= University of California-Berkeley<br>Year=%{x}<br>World Rank=%{y}<extra></extra>\",\"legendgroup\":\" University of California-Berkeley\",\"line\":{\"color\":\"#19d3f3\",\"dash\":\"solid\"},\"marker\":{\"symbol\":\"circle\"},\"mode\":\"lines\",\"name\":\" University of California-Berkeley\",\"orientation\":\"v\",\"showlegend\":true,\"x\":[2014],\"xaxis\":\"x\",\"y\":[4],\"yaxis\":\"y\",\"type\":\"scatter\"},{\"hovertemplate\":\"Institution= University of Michigan-Ann Arbor<br>Year=%{x}<br>World Rank=%{y}<extra></extra>\",\"legendgroup\":\" University of Michigan-Ann Arbor\",\"line\":{\"color\":\"#FF6692\",\"dash\":\"solid\"},\"marker\":{\"symbol\":\"circle\"},\"mode\":\"lines\",\"name\":\" University of Michigan-Ann Arbor\",\"orientation\":\"v\",\"showlegend\":true,\"x\":[2014,2015,2016,2017,2018,2019,2020,2022,2023],\"xaxis\":\"x\",\"y\":[22,22,23,24,27,20,22,28,26],\"yaxis\":\"y\",\"type\":\"scatter\"},{\"hovertemplate\":\"Institution= Johns Hopkins University<br>Year=%{x}<br>World Rank=%{y}<extra></extra>\",\"legendgroup\":\" Johns Hopkins University\",\"line\":{\"color\":\"#B6E880\",\"dash\":\"solid\"},\"marker\":{\"symbol\":\"circle\"},\"mode\":\"lines\",\"name\":\" Johns Hopkins University\",\"orientation\":\"v\",\"showlegend\":true,\"x\":[2015,2016,2017,2018,2019,2020,2021,2022,2023],\"xaxis\":\"x\",\"y\":[16,16,18,18,16,15,16,14,16],\"yaxis\":\"y\",\"type\":\"scatter\"},{\"hovertemplate\":\"Institution= Duke University<br>Year=%{x}<br>World Rank=%{y}<extra></extra>\",\"legendgroup\":\" Duke University\",\"line\":{\"color\":\"#FF97FF\",\"dash\":\"solid\"},\"marker\":{\"symbol\":\"circle\"},\"mode\":\"lines\",\"name\":\" Duke University\",\"orientation\":\"v\",\"showlegend\":true,\"x\":[2016,2017,2018,2019,2020],\"xaxis\":\"x\",\"y\":[25,26,26,28,27],\"yaxis\":\"y\",\"type\":\"scatter\"},{\"hovertemplate\":\"Institution= University of Copenhagen<br>Year=%{x}<br>World Rank=%{y}<extra></extra>\",\"legendgroup\":\" University of Copenhagen\",\"line\":{\"color\":\"#FECB52\",\"dash\":\"solid\"},\"marker\":{\"symbol\":\"circle\"},\"mode\":\"lines\",\"name\":\" University of Copenhagen\",\"orientation\":\"v\",\"showlegend\":true,\"x\":[2016,2017,2018,2019,2021],\"xaxis\":\"x\",\"y\":[30,30,29,26,30],\"yaxis\":\"y\",\"type\":\"scatter\"},{\"hovertemplate\":\"Institution= Imperial College London<br>Year=%{x}<br>World Rank=%{y}<extra></extra>\",\"legendgroup\":\" Imperial College London\",\"line\":{\"color\":\"#636efa\",\"dash\":\"solid\"},\"marker\":{\"symbol\":\"circle\"},\"mode\":\"lines\",\"name\":\" Imperial College London\",\"orientation\":\"v\",\"showlegend\":true,\"x\":[2017,2018,2019,2020,2021,2022,2023],\"xaxis\":\"x\",\"y\":[27,24,23,25,25,23,23],\"yaxis\":\"y\",\"type\":\"scatter\"},{\"hovertemplate\":\"Institution= Paris-Saclay University<br>Year=%{x}<br>World Rank=%{y}<extra></extra>\",\"legendgroup\":\" Paris-Saclay University\",\"line\":{\"color\":\"#EF553B\",\"dash\":\"solid\"},\"marker\":{\"symbol\":\"circle\"},\"mode\":\"lines\",\"name\":\" Paris-Saclay University\",\"orientation\":\"v\",\"showlegend\":true,\"x\":[2020,2021,2022,2023],\"xaxis\":\"x\",\"y\":[14,13,16,15],\"yaxis\":\"y\",\"type\":\"scatter\"},{\"hovertemplate\":\"Institution= ETH Zurich<br>Year=%{x}<br>World Rank=%{y}<extra></extra>\",\"legendgroup\":\" ETH Zurich\",\"line\":{\"color\":\"#00cc96\",\"dash\":\"solid\"},\"marker\":{\"symbol\":\"circle\"},\"mode\":\"lines\",\"name\":\" ETH Zurich\",\"orientation\":\"v\",\"showlegend\":true,\"x\":[2020,2021,2022,2023],\"xaxis\":\"x\",\"y\":[20,21,20,20],\"yaxis\":\"y\",\"type\":\"scatter\"},{\"hovertemplate\":\"Institution= Tsinghua University<br>Year=%{x}<br>World Rank=%{y}<extra></extra>\",\"legendgroup\":\" Tsinghua University\",\"line\":{\"color\":\"#ab63fa\",\"dash\":\"solid\"},\"marker\":{\"symbol\":\"circle\"},\"mode\":\"lines\",\"name\":\" Tsinghua University\",\"orientation\":\"v\",\"showlegend\":true,\"x\":[2020,2021,2022,2023],\"xaxis\":\"x\",\"y\":[29,28,26,22],\"yaxis\":\"y\",\"type\":\"scatter\"},{\"hovertemplate\":\"Institution= University of North Carolina at Chapel Hill<br>Year=%{x}<br>World Rank=%{y}<extra></extra>\",\"legendgroup\":\" University of North Carolina at Chapel Hill\",\"line\":{\"color\":\"#FFA15A\",\"dash\":\"solid\"},\"marker\":{\"symbol\":\"circle\"},\"mode\":\"lines\",\"name\":\" University of North Carolina at Chapel Hill\",\"orientation\":\"v\",\"showlegend\":true,\"x\":[2021,2022],\"xaxis\":\"x\",\"y\":[29,29],\"yaxis\":\"y\",\"type\":\"scatter\"},{\"hovertemplate\":\"Institution= Peking University<br>Year=%{x}<br>World Rank=%{y}<extra></extra>\",\"legendgroup\":\" Peking University\",\"line\":{\"color\":\"#19d3f3\",\"dash\":\"solid\"},\"marker\":{\"symbol\":\"circle\"},\"mode\":\"lines\",\"name\":\" Peking University\",\"orientation\":\"v\",\"showlegend\":true,\"x\":[2023],\"xaxis\":\"x\",\"y\":[29],\"yaxis\":\"y\",\"type\":\"scatter\"}],                        {\"template\":{\"data\":{\"histogram2dcontour\":[{\"type\":\"histogram2dcontour\",\"colorbar\":{\"outlinewidth\":0,\"ticks\":\"\"},\"colorscale\":[[0.0,\"#0d0887\"],[0.1111111111111111,\"#46039f\"],[0.2222222222222222,\"#7201a8\"],[0.3333333333333333,\"#9c179e\"],[0.4444444444444444,\"#bd3786\"],[0.5555555555555556,\"#d8576b\"],[0.6666666666666666,\"#ed7953\"],[0.7777777777777778,\"#fb9f3a\"],[0.8888888888888888,\"#fdca26\"],[1.0,\"#f0f921\"]]}],\"choropleth\":[{\"type\":\"choropleth\",\"colorbar\":{\"outlinewidth\":0,\"ticks\":\"\"}}],\"histogram2d\":[{\"type\":\"histogram2d\",\"colorbar\":{\"outlinewidth\":0,\"ticks\":\"\"},\"colorscale\":[[0.0,\"#0d0887\"],[0.1111111111111111,\"#46039f\"],[0.2222222222222222,\"#7201a8\"],[0.3333333333333333,\"#9c179e\"],[0.4444444444444444,\"#bd3786\"],[0.5555555555555556,\"#d8576b\"],[0.6666666666666666,\"#ed7953\"],[0.7777777777777778,\"#fb9f3a\"],[0.8888888888888888,\"#fdca26\"],[1.0,\"#f0f921\"]]}],\"heatmap\":[{\"type\":\"heatmap\",\"colorbar\":{\"outlinewidth\":0,\"ticks\":\"\"},\"colorscale\":[[0.0,\"#0d0887\"],[0.1111111111111111,\"#46039f\"],[0.2222222222222222,\"#7201a8\"],[0.3333333333333333,\"#9c179e\"],[0.4444444444444444,\"#bd3786\"],[0.5555555555555556,\"#d8576b\"],[0.6666666666666666,\"#ed7953\"],[0.7777777777777778,\"#fb9f3a\"],[0.8888888888888888,\"#fdca26\"],[1.0,\"#f0f921\"]]}],\"heatmapgl\":[{\"type\":\"heatmapgl\",\"colorbar\":{\"outlinewidth\":0,\"ticks\":\"\"},\"colorscale\":[[0.0,\"#0d0887\"],[0.1111111111111111,\"#46039f\"],[0.2222222222222222,\"#7201a8\"],[0.3333333333333333,\"#9c179e\"],[0.4444444444444444,\"#bd3786\"],[0.5555555555555556,\"#d8576b\"],[0.6666666666666666,\"#ed7953\"],[0.7777777777777778,\"#fb9f3a\"],[0.8888888888888888,\"#fdca26\"],[1.0,\"#f0f921\"]]}],\"contourcarpet\":[{\"type\":\"contourcarpet\",\"colorbar\":{\"outlinewidth\":0,\"ticks\":\"\"}}],\"contour\":[{\"type\":\"contour\",\"colorbar\":{\"outlinewidth\":0,\"ticks\":\"\"},\"colorscale\":[[0.0,\"#0d0887\"],[0.1111111111111111,\"#46039f\"],[0.2222222222222222,\"#7201a8\"],[0.3333333333333333,\"#9c179e\"],[0.4444444444444444,\"#bd3786\"],[0.5555555555555556,\"#d8576b\"],[0.6666666666666666,\"#ed7953\"],[0.7777777777777778,\"#fb9f3a\"],[0.8888888888888888,\"#fdca26\"],[1.0,\"#f0f921\"]]}],\"surface\":[{\"type\":\"surface\",\"colorbar\":{\"outlinewidth\":0,\"ticks\":\"\"},\"colorscale\":[[0.0,\"#0d0887\"],[0.1111111111111111,\"#46039f\"],[0.2222222222222222,\"#7201a8\"],[0.3333333333333333,\"#9c179e\"],[0.4444444444444444,\"#bd3786\"],[0.5555555555555556,\"#d8576b\"],[0.6666666666666666,\"#ed7953\"],[0.7777777777777778,\"#fb9f3a\"],[0.8888888888888888,\"#fdca26\"],[1.0,\"#f0f921\"]]}],\"mesh3d\":[{\"type\":\"mesh3d\",\"colorbar\":{\"outlinewidth\":0,\"ticks\":\"\"}}],\"scatter\":[{\"fillpattern\":{\"fillmode\":\"overlay\",\"size\":10,\"solidity\":0.2},\"type\":\"scatter\"}],\"parcoords\":[{\"type\":\"parcoords\",\"line\":{\"colorbar\":{\"outlinewidth\":0,\"ticks\":\"\"}}}],\"scatterpolargl\":[{\"type\":\"scatterpolargl\",\"marker\":{\"colorbar\":{\"outlinewidth\":0,\"ticks\":\"\"}}}],\"bar\":[{\"error_x\":{\"color\":\"#2a3f5f\"},\"error_y\":{\"color\":\"#2a3f5f\"},\"marker\":{\"line\":{\"color\":\"#E5ECF6\",\"width\":0.5},\"pattern\":{\"fillmode\":\"overlay\",\"size\":10,\"solidity\":0.2}},\"type\":\"bar\"}],\"scattergeo\":[{\"type\":\"scattergeo\",\"marker\":{\"colorbar\":{\"outlinewidth\":0,\"ticks\":\"\"}}}],\"scatterpolar\":[{\"type\":\"scatterpolar\",\"marker\":{\"colorbar\":{\"outlinewidth\":0,\"ticks\":\"\"}}}],\"histogram\":[{\"marker\":{\"pattern\":{\"fillmode\":\"overlay\",\"size\":10,\"solidity\":0.2}},\"type\":\"histogram\"}],\"scattergl\":[{\"type\":\"scattergl\",\"marker\":{\"colorbar\":{\"outlinewidth\":0,\"ticks\":\"\"}}}],\"scatter3d\":[{\"type\":\"scatter3d\",\"line\":{\"colorbar\":{\"outlinewidth\":0,\"ticks\":\"\"}},\"marker\":{\"colorbar\":{\"outlinewidth\":0,\"ticks\":\"\"}}}],\"scattermapbox\":[{\"type\":\"scattermapbox\",\"marker\":{\"colorbar\":{\"outlinewidth\":0,\"ticks\":\"\"}}}],\"scatterternary\":[{\"type\":\"scatterternary\",\"marker\":{\"colorbar\":{\"outlinewidth\":0,\"ticks\":\"\"}}}],\"scattercarpet\":[{\"type\":\"scattercarpet\",\"marker\":{\"colorbar\":{\"outlinewidth\":0,\"ticks\":\"\"}}}],\"carpet\":[{\"aaxis\":{\"endlinecolor\":\"#2a3f5f\",\"gridcolor\":\"white\",\"linecolor\":\"white\",\"minorgridcolor\":\"white\",\"startlinecolor\":\"#2a3f5f\"},\"baxis\":{\"endlinecolor\":\"#2a3f5f\",\"gridcolor\":\"white\",\"linecolor\":\"white\",\"minorgridcolor\":\"white\",\"startlinecolor\":\"#2a3f5f\"},\"type\":\"carpet\"}],\"table\":[{\"cells\":{\"fill\":{\"color\":\"#EBF0F8\"},\"line\":{\"color\":\"white\"}},\"header\":{\"fill\":{\"color\":\"#C8D4E3\"},\"line\":{\"color\":\"white\"}},\"type\":\"table\"}],\"barpolar\":[{\"marker\":{\"line\":{\"color\":\"#E5ECF6\",\"width\":0.5},\"pattern\":{\"fillmode\":\"overlay\",\"size\":10,\"solidity\":0.2}},\"type\":\"barpolar\"}],\"pie\":[{\"automargin\":true,\"type\":\"pie\"}]},\"layout\":{\"autotypenumbers\":\"strict\",\"colorway\":[\"#636efa\",\"#EF553B\",\"#00cc96\",\"#ab63fa\",\"#FFA15A\",\"#19d3f3\",\"#FF6692\",\"#B6E880\",\"#FF97FF\",\"#FECB52\"],\"font\":{\"color\":\"#2a3f5f\"},\"hovermode\":\"closest\",\"hoverlabel\":{\"align\":\"left\"},\"paper_bgcolor\":\"white\",\"plot_bgcolor\":\"#E5ECF6\",\"polar\":{\"bgcolor\":\"#E5ECF6\",\"angularaxis\":{\"gridcolor\":\"white\",\"linecolor\":\"white\",\"ticks\":\"\"},\"radialaxis\":{\"gridcolor\":\"white\",\"linecolor\":\"white\",\"ticks\":\"\"}},\"ternary\":{\"bgcolor\":\"#E5ECF6\",\"aaxis\":{\"gridcolor\":\"white\",\"linecolor\":\"white\",\"ticks\":\"\"},\"baxis\":{\"gridcolor\":\"white\",\"linecolor\":\"white\",\"ticks\":\"\"},\"caxis\":{\"gridcolor\":\"white\",\"linecolor\":\"white\",\"ticks\":\"\"}},\"coloraxis\":{\"colorbar\":{\"outlinewidth\":0,\"ticks\":\"\"}},\"colorscale\":{\"sequential\":[[0.0,\"#0d0887\"],[0.1111111111111111,\"#46039f\"],[0.2222222222222222,\"#7201a8\"],[0.3333333333333333,\"#9c179e\"],[0.4444444444444444,\"#bd3786\"],[0.5555555555555556,\"#d8576b\"],[0.6666666666666666,\"#ed7953\"],[0.7777777777777778,\"#fb9f3a\"],[0.8888888888888888,\"#fdca26\"],[1.0,\"#f0f921\"]],\"sequentialminus\":[[0.0,\"#0d0887\"],[0.1111111111111111,\"#46039f\"],[0.2222222222222222,\"#7201a8\"],[0.3333333333333333,\"#9c179e\"],[0.4444444444444444,\"#bd3786\"],[0.5555555555555556,\"#d8576b\"],[0.6666666666666666,\"#ed7953\"],[0.7777777777777778,\"#fb9f3a\"],[0.8888888888888888,\"#fdca26\"],[1.0,\"#f0f921\"]],\"diverging\":[[0,\"#8e0152\"],[0.1,\"#c51b7d\"],[0.2,\"#de77ae\"],[0.3,\"#f1b6da\"],[0.4,\"#fde0ef\"],[0.5,\"#f7f7f7\"],[0.6,\"#e6f5d0\"],[0.7,\"#b8e186\"],[0.8,\"#7fbc41\"],[0.9,\"#4d9221\"],[1,\"#276419\"]]},\"xaxis\":{\"gridcolor\":\"white\",\"linecolor\":\"white\",\"ticks\":\"\",\"title\":{\"standoff\":15},\"zerolinecolor\":\"white\",\"automargin\":true,\"zerolinewidth\":2},\"yaxis\":{\"gridcolor\":\"white\",\"linecolor\":\"white\",\"ticks\":\"\",\"title\":{\"standoff\":15},\"zerolinecolor\":\"white\",\"automargin\":true,\"zerolinewidth\":2},\"scene\":{\"xaxis\":{\"backgroundcolor\":\"#E5ECF6\",\"gridcolor\":\"white\",\"linecolor\":\"white\",\"showbackground\":true,\"ticks\":\"\",\"zerolinecolor\":\"white\",\"gridwidth\":2},\"yaxis\":{\"backgroundcolor\":\"#E5ECF6\",\"gridcolor\":\"white\",\"linecolor\":\"white\",\"showbackground\":true,\"ticks\":\"\",\"zerolinecolor\":\"white\",\"gridwidth\":2},\"zaxis\":{\"backgroundcolor\":\"#E5ECF6\",\"gridcolor\":\"white\",\"linecolor\":\"white\",\"showbackground\":true,\"ticks\":\"\",\"zerolinecolor\":\"white\",\"gridwidth\":2}},\"shapedefaults\":{\"line\":{\"color\":\"#2a3f5f\"}},\"annotationdefaults\":{\"arrowcolor\":\"#2a3f5f\",\"arrowhead\":0,\"arrowwidth\":1},\"geo\":{\"bgcolor\":\"white\",\"landcolor\":\"#E5ECF6\",\"subunitcolor\":\"white\",\"showland\":true,\"showlakes\":true,\"lakecolor\":\"white\"},\"title\":{\"x\":0.05},\"mapbox\":{\"style\":\"light\"}}},\"xaxis\":{\"anchor\":\"y\",\"domain\":[0.0,1.0],\"title\":{\"text\":\"\"},\"rangeslider\":{\"visible\":true},\"type\":\"date\"},\"yaxis\":{\"anchor\":\"x\",\"domain\":[0.0,1.0],\"title\":{\"text\":\"World Rank\"},\"autorange\":false,\"range\":[30,1]},\"legend\":{\"title\":{\"text\":\"Institution\"},\"tracegroupgap\":0},\"title\":{\"text\":\"World Rank of Institutions Over Years\"},\"hovermode\":\"closest\",\"showlegend\":false,\"height\":900},                        {\"responsive\": true}                    ).then(function(){\n",
       "                            \n",
       "var gd = document.getElementById('743a1962-dab7-4552-b50e-fb13194b99b9');\n",
       "var x = new MutationObserver(function (mutations, observer) {{\n",
       "        var display = window.getComputedStyle(gd).display;\n",
       "        if (!display || display === 'none') {{\n",
       "            console.log([gd, 'removed!']);\n",
       "            Plotly.purge(gd);\n",
       "            observer.disconnect();\n",
       "        }}\n",
       "}});\n",
       "\n",
       "// Listen for the removal of the full notebook cells\n",
       "var notebookContainer = gd.closest('#notebook-container');\n",
       "if (notebookContainer) {{\n",
       "    x.observe(notebookContainer, {childList: true});\n",
       "}}\n",
       "\n",
       "// Listen for the clearing of the current output cell\n",
       "var outputEl = gd.closest('.output');\n",
       "if (outputEl) {{\n",
       "    x.observe(outputEl, {childList: true});\n",
       "}}\n",
       "\n",
       "                        })                };                });            </script>        </div>"
      ]
     },
     "metadata": {},
     "output_type": "display_data"
    }
   ],
   "source": [
    "import plotly.express as px\n",
    "\n",
    "\n",
    "\n",
    "fig = px.line(shanghai_dataframe, x=\"Year\", y=\"World_Rank\", color=\"Institution\",\n",
    "              title=\"World Rank of Institutions Over Years\",\n",
    "              labels={\"World_Rank\": \"World Rank\", \"Year\": \"Year\"})\n",
    "\n",
    "# Determine the lower bound for the y-axis (maximum World Rank value)\n",
    "max_world_rank = shanghai_dataframe['World_Rank'].max()\n",
    "\n",
    "\n",
    "fig.update_layout(\n",
    "    hovermode='closest',\n",
    "    xaxis_title='',  # Removes the x-axis label\n",
    "    yaxis_title='World Rank',\n",
    "    yaxis=dict(autorange=False, range=[max_world_rank, 1]),  # Set fixed y-axis range with 1 as the highest number\n",
    "    showlegend=False,  # Removes the legend\n",
    "    xaxis=dict(\n",
    "        rangeslider=dict(\n",
    "            visible=True\n",
    "        ),\n",
    "        type=\"date\"  #\n",
    "    ),\n",
    "    height=900  # Adjustment of height\n",
    ")\n",
    "\n",
    "# Show the figure\n",
    "fig.show()\n"
   ]
  },
  {
   "cell_type": "code",
   "execution_count": null,
   "id": "0e5a5f7a-bad3-4415-be59-f380fdcdfbbe",
   "metadata": {},
   "outputs": [],
   "source": []
  }
 ],
 "metadata": {
  "kernelspec": {
   "display_name": "Python 3 (ipykernel)",
   "language": "python",
   "name": "python3"
  },
  "language_info": {
   "codemirror_mode": {
    "name": "ipython",
    "version": 3
   },
   "file_extension": ".py",
   "mimetype": "text/x-python",
   "name": "python",
   "nbconvert_exporter": "python",
   "pygments_lexer": "ipython3",
   "version": "3.11.5"
  }
 },
 "nbformat": 4,
 "nbformat_minor": 5
}
